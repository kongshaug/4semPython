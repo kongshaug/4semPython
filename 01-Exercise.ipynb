{
 "cells": [
  {
   "cell_type": "markdown",
   "metadata": {},
   "source": [
    "## Exercise"
   ]
  },
  {
   "cell_type": "markdown",
   "metadata": {},
   "source": [
    "1. Create 5 list comprehensions to solve the following 5 problems:\n",
    "  1. Iterate a list of names to return a list of the names starting with H\n",
    "  2. In one line create a list of the numbers 1-100 to the power of 3\n",
    "  3. Iterate a list of names to create a list of tuples where the tuples first value is the length of the name and the second is the name\n",
    "  4. Iterate over each character in a string and get only those that are nummeric\n",
    "  5. Using only a list comprehension wrapped in set() get all possible combination from throwing 2 dice\n",
    "\n",
    "2. Create 2 dictionary comprehensions to solve the following:\n",
    "  1. Iterate a list of names and create a dictionary where key is the name and value is the length of the name\n",
    "  2. Iterate a list of numbers and create a dictionary with (key, value) being (number, squareroot of number)\n",
    "\n",
    "3. Progammatically using loops create a small program to produce a dictionary with all the 2 dice throw combinations as keys and their likelyhood in percent as values"
   ]
  },
  {
   "cell_type": "code",
   "execution_count": 53,
   "metadata": {},
   "outputs": [
    {
     "name": "stdout",
     "output_type": "stream",
     "text": [
      "['hans', 'Hululu']\n"
     ]
    },
    {
     "data": {
      "text/plain": [
       "'allElementsInList = all(element in [7,6,5] for element in [1,2,3,4,5,6,7])'"
      ]
     },
     "execution_count": 53,
     "metadata": {},
     "output_type": "execute_result"
    }
   ],
   "source": [
    "\"exercise A\"\n",
    "names = [\"andrea\", \"benja\", \"teo\", \"hans\", \"kurt\", \"Hululu\", \"Oli\"]\n",
    "h_names = [name for name in names if name[0].lower() == \"h\"]\n",
    "print(h_names)\n",
    "\n",
    "\"[value**2 for value in range(0, 21) if value < 10]\"\n",
    "\"allElementsInList = all(element in [7,6,5] for element in [1,2,3,4,5,6,7])\""
   ]
  },
  {
   "cell_type": "code",
   "execution_count": 16,
   "metadata": {},
   "outputs": [
    {
     "name": "stdout",
     "output_type": "stream",
     "text": [
      "[1, 8, 27, 64, 125, 216, 343, 512, 729, 1000, 1331, 1728, 2197, 2744, 3375, 4096, 4913, 5832, 6859, 8000, 9261, 10648, 12167, 13824, 15625, 17576, 19683, 21952, 24389, 27000, 29791, 32768, 35937, 39304, 42875, 46656, 50653, 54872, 59319, 64000, 68921, 74088, 79507, 85184, 91125, 97336, 103823, 110592, 117649, 125000, 132651, 140608, 148877, 157464, 166375, 175616, 185193, 195112, 205379, 216000, 226981, 238328, 250047, 262144, 274625, 287496, 300763, 314432, 328509, 343000, 357911, 373248, 389017, 405224, 421875, 438976, 456533, 474552, 493039, 512000, 531441, 551368, 571787, 592704, 614125, 636056, 658503, 681472, 704969, 729000, 753571, 778688, 804357, 830584, 857375, 884736, 912673, 941192, 970299]\n"
     ]
    }
   ],
   "source": [
    "#Exercise B\n",
    "\n",
    "numbers = [value**3 for value in range(1,100)]\n",
    "print(numbers)"
   ]
  },
  {
   "cell_type": "code",
   "execution_count": 24,
   "metadata": {},
   "outputs": [
    {
     "name": "stdout",
     "output_type": "stream",
     "text": [
      "[(6, 'andrea'), (5, 'benja'), (3, 'teo'), (4, 'hans'), (4, 'kurt'), (6, 'Hululu')]\n"
     ]
    }
   ],
   "source": [
    "#exercise c\n",
    "#Iterate a list of names to create a list of tuples where the tuples first value is the length of the name and the second is the name\n",
    "tuple_names = [(len(name), name) for name in names]\n",
    "print(tuple_names)"
   ]
  },
  {
   "cell_type": "markdown",
   "metadata": {},
   "source": [
    "# Exercise D\n"
   ]
  },
  {
   "cell_type": "code",
   "execution_count": 29,
   "metadata": {},
   "outputs": [
    {
     "name": "stdout",
     "output_type": "stream",
     "text": [
      "['2', '0', '1']\n"
     ]
    }
   ],
   "source": [
    "word = \"2 many w0rds in 1 sentance\"\n",
    "\n",
    "numbers = [char for char in word if char.isdigit()]\n",
    "print (numbers)"
   ]
  },
  {
   "cell_type": "markdown",
   "metadata": {},
   "source": [
    "# Exercise 2 A"
   ]
  },
  {
   "cell_type": "code",
   "execution_count": 54,
   "metadata": {},
   "outputs": [
    {
     "name": "stdout",
     "output_type": "stream",
     "text": [
      "{'andrea': 6, 'benja': 5, 'teo': 3, 'hans': 4, 'kurt': 4, 'Hululu': 6, 'Oli': 3}\n"
     ]
    }
   ],
   "source": [
    "#Iterate a list of names and create a dictionary where key is the name and value is the length of the name\n",
    "dict_names = {name: len(name) for name in names }\n",
    "print (dict_names)"
   ]
  },
  {
   "cell_type": "code",
   "execution_count": 62,
   "metadata": {},
   "outputs": [
    {
     "name": "stdout",
     "output_type": "stream",
     "text": [
      "{4: 2.0, 8: 2.8284271247461903, 12: 3.4641016151377544, 16: 4.0}\n"
     ]
    }
   ],
   "source": [
    "import math\n",
    "dict_numbers = {num:math.sqrt(num) for num in range(4,20, 4) }\n",
    "print (dict_numbers)"
   ]
  },
  {
   "cell_type": "markdown",
   "metadata": {},
   "source": [
    "# Exercise 3"
   ]
  },
  {
   "cell_type": "code",
   "execution_count": 112,
   "metadata": {},
   "outputs": [
    {
     "name": "stdout",
     "output_type": "stream",
     "text": [
      "[(2, 2.7777777777777777), (3, 5.555555555555555), (4, 8.333333333333334), (5, 11.11111111111111), (6, 13.88888888888889), (7, 16.666666666666668), (8, 13.88888888888889), (9, 11.11111111111111), (10, 8.333333333333334), (11, 5.555555555555555), (12, 2.7777777777777777)]\n"
     ]
    }
   ],
   "source": [
    "dice = [value for value in range(1,7)]\n",
    "dice_combo = [(die+die_two) for die in dice for die_two in dice]\n",
    "my_die_set = {die for die in dice_combo}\n",
    "dice_combo_dic = [(die, dice_combo.count(die)*100/len(dice_combo)) for die in my_die_set]\n",
    "\n",
    "\n",
    "print(dice_combo_dic)\n"
   ]
  }
 ],
 "metadata": {
  "kernelspec": {
   "display_name": "Python 3",
   "language": "python",
   "name": "python3"
  },
  "language_info": {
   "codemirror_mode": {
    "name": "ipython",
    "version": 3
   },
   "file_extension": ".py",
   "mimetype": "text/x-python",
   "name": "python",
   "nbconvert_exporter": "python",
   "pygments_lexer": "ipython3",
   "version": "3.7.4"
  }
 },
 "nbformat": 4,
 "nbformat_minor": 2
}
