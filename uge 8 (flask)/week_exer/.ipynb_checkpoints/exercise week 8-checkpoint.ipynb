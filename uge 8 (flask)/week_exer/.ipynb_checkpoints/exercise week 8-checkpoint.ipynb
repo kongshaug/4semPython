{
 "cells": [
  {
   "cell_type": "markdown",
   "metadata": {},
   "source": [
    "http://www.gutenberg.org/ebooks/search/?query=sherlock+holmes+conan\n",
    "\n",
    "\n",
    "Brug selenium til at gennemgå de 25 populæreste Sherlock Holmes bøger"
   ]
  },
  {
   "cell_type": "code",
   "execution_count": null,
   "metadata": {},
   "outputs": [],
   "source": [
    "from selenium import webdriver\n",
    "import time\n",
    "\n",
    "\n",
    "browser = webdriver.Chrome('./chromedriver.exe')\n",
    "browser.get('http://kultunaut.dk/')\n",
    "browser.find_elements_by_xpath(\"//div[contains(text(), 'OK')]\")[0].click()\n",
    "browser.find_elements_by_xpath(\"//b[contains(text(), 'Film')]\")[0].click()\n",
    "time.sleep(2)\n",
    "browser.find_elements_by_xpath(\"//div[contains(text(), 'OK')]\")[0].click()\n",
    "browser.find_elements_by_xpath(\"//b[contains(text(), 'Vælg alle')]\")[0].click()\n",
    "inputs = browser.find_elements_by_xpath(\"/html/body/div[2]/div[2]/div/div/div[3]/div/div[1]/form/table[3]/tbody/tr[2]/td[2]/input[1]\")[0].click()\n",
    "\n"
   ]
  },
  {
   "cell_type": "code",
   "execution_count": 14,
   "metadata": {},
   "outputs": [
    {
     "name": "stdout",
     "output_type": "stream",
     "text": [
      "['http://www.gutenberg.org/ebooks/1661', 'http://www.gutenberg.org/ebooks/2852', 'http://www.gutenberg.org/ebooks/244', 'http://www.gutenberg.org/ebooks/2097', 'http://www.gutenberg.org/ebooks/48320', 'http://www.gutenberg.org/ebooks/834', 'http://www.gutenberg.org/ebooks/108', 'http://www.gutenberg.org/ebooks/3289', 'http://www.gutenberg.org/ebooks/2350', 'http://www.gutenberg.org/ebooks/3070', 'http://www.gutenberg.org/ebooks/9551', 'http://www.gutenberg.org/ebooks/221', 'http://www.gutenberg.org/ebooks/2346', 'http://www.gutenberg.org/ebooks/2347', 'http://www.gutenberg.org/ebooks/2344', 'http://www.gutenberg.org/ebooks/2349', 'http://www.gutenberg.org/ebooks/2343', 'http://www.gutenberg.org/ebooks/9556', 'http://www.gutenberg.org/ebooks/3776', 'http://www.gutenberg.org/ebooks/2348', 'http://www.gutenberg.org/ebooks/28733', 'http://www.gutenberg.org/ebooks/2345', 'http://www.gutenberg.org/ebooks/34079', 'http://www.gutenberg.org/ebooks/9555', 'http://www.gutenberg.org/ebooks/9553']\n",
      "http://www.gutenberg.org/files/1661/1661-h/1661-h.htm\n"
     ]
    }
   ],
   "source": [
    "from selenium import webdriver \n",
    "browser = webdriver.Chrome(\"./chromedriver.exe\")\n",
    "browser.get(\"http://www.gutenberg.org/ebooks/search/?query=sherlock+holmes+conan\")\n",
    "books = browser.find_elements_by_class_name(\"booklink\")\n",
    "\n",
    "hrefs = []\n",
    "\n",
    "\n",
    "for book in books:\n",
    "    href = book.find_element_by_class_name(\"link\").get_attribute('href')\n",
    "    hrefs.append(href)\n",
    "\n",
    "book_refs= []\n",
    "\n",
    "#for href in hrefs:\n",
    "    #browser.get(href)\n",
    "    #text_book_link = browser.find_element_by_xpath(\"//a[contains(text(), 'Read this book online: HTML')]\").get_attribute('href')\n",
    "    #book_refs.append(text_book_link)\n",
    "    \n",
    "browser.get(hrefs[0])\n",
    "text_book_link = browser.find_element_by_xpath(\"//a[contains(text(), 'Read this book online: HTML')]\").get_attribute('href')\n",
    "\n",
    "\n",
    "\n",
    "\n",
    "\n"
   ]
  },
  {
   "cell_type": "code",
   "execution_count": 48,
   "metadata": {},
   "outputs": [
    {
     "name": "stdout",
     "output_type": "stream",
     "text": [
      "['£ 30']\n",
      "['£ 4700']\n",
      "['£ 60']\n",
      "['£ 14,000']\n",
      "['£ 1000']\n",
      "['£ 88', '£ 220']\n",
      "['£ 700']\n",
      "['£ 1000']\n",
      "['£ 100']\n",
      "['£ 1000']\n",
      "['£ 1,100', '£ 750', '£ 250']\n",
      "['£ 27']\n",
      "['£ 50,000']\n",
      "['£ 1000']\n",
      "['£ 200']\n",
      "['£ 1000']\n",
      "['£ 1000']\n",
      "['£ 4000']\n",
      "['£ 1000', '£ 1000']\n",
      "['£ 100']\n",
      "['£ 100']\n",
      "['£ 30']\n",
      "['£ 120', '£ 40']\n",
      "['\\r\\n“As far as you are personally concerned,” remarked Holmes, “I\\r\\ndo not see that you have any grievance against this extraordinary league. On\\r\\nthe contrary, you are, as I understand, richer by some Â£ 30, to say nothing of\\r\\nthe minute knowledge which you have gained on every subject which comes under\\r\\nthe letter A. You have lost nothing by them.”\\r\\n', '\\r\\n“Oh, yes, mother is alive and well. I wasn’t best pleased, Mr.\\r\\nHolmes, when she married again so soon after father’s death, and a man\\r\\nwho was nearly fifteen years younger than herself. Father was a plumber in the\\r\\nTottenham Court Road, and he left a tidy business behind him, which mother\\r\\ncarried on with Mr. Hardy, the foreman; but when Mr. Windibank came he made her\\r\\nsell the business, for he was very superior, being a traveller in wines. They\\r\\ngot Â£ 4700 for the goodwill and interest, which wasn’t near as much as\\r\\nfather could have got if he had been alive.”\\r\\n', '\\r\\n“You interest me extremely,” said Holmes. “And since you draw\\r\\nso large a sum as a hundred a year, with what you earn into the bargain, you no\\r\\ndoubt travel a little and indulge yourself in every way. I believe that a\\r\\nsingle lady can get on very nicely upon an income of about Â£ 60.”\\r\\n', '\\r\\n“Well, to come to an end of the matter, Mr. Holmes, and not to abuse your\\r\\npatience, there came a night when he made one of those drunken sallies from\\r\\nwhich he never came back. We found him, when we went to search for him, face\\r\\ndownward in a little green-scummed pool, which lay at the foot of the garden.\\r\\nThere was no sign of any violence, and the water was but two feet deep, so that\\r\\nthe jury, having regard to his known eccentricity, brought in a verdict of\\r\\n‘suicide.’ But I, who knew how he winced from the very thought of\\r\\ndeath, had much ado to persuade myself that he had gone out of his way to meet\\r\\nit. The matter passed, however, and my father entered into possession of the\\r\\nestate, and of some Â£ 14,000, which lay to his credit at the bank.”\\r\\n', '\\r\\n“Ay, bodies, Watson. We should be rich men if we had Â£ 1000 for every\\r\\npoor devil who has been done to death in that den. It is the vilest murder-trap\\r\\non the whole riverside, and I fear that Neville St. Clair has entered it never\\r\\nto leave it more. But our trap should be here.” He put his two\\r\\nforefingers between his teeth and whistled shrilly—a signal which was\\r\\nanswered by a similar whistle from the distance, followed shortly by the rattle\\r\\nof wheels and the clink of horses’ hoofs.\\r\\n', '\\r\\n“Some years ago—to be definite, in May, 1884—there came to\\r\\nLee a gentleman, Neville St. Clair by name, who appeared to have plenty of\\r\\nmoney. He took a large villa, laid out the grounds very nicely, and lived\\r\\ngenerally in good style. By degrees he made friends in the neighbourhood, and\\r\\nin 1887 he married the daughter of a local brewer, by whom he now has two\\r\\nchildren. He had no occupation, but was interested in several companies and\\r\\nwent into town as a rule in the morning, returning by the 5:14 from Cannon\\r\\nStreet every night. Mr. St. Clair is now thirty-seven years of age, is a man of\\r\\ntemperate habits, a good husband, a very affectionate father, and a man who is\\r\\npopular with all who know him. I may add that his whole debts at the present\\r\\nmoment, as far as we have been able to ascertain, amount to Â£ 88 10s.,\\r\\nwhile he has Â£ 220 standing to his credit in the Capital and Counties Bank.\\r\\nThere is no reason, therefore, to think that money troubles have been weighing\\r\\nupon his mind.\\r\\n', '\\r\\n“Well, very soon I found that I was saving considerable sums of money. I\\r\\ndo not mean that any beggar in the streets of London could earn Â£ 700 a\\r\\nyear—which is less than my average takings—but I had exceptional\\r\\nadvantages in my power of making up, and also in a facility of repartee, which\\r\\nimproved by practice and made me quite a recognised character in the City. All\\r\\nday a stream of pennies, varied by silver, poured in upon me, and it was a very\\r\\nbad day in which I failed to take Â£ 2.\\r\\n', '\\r\\n“Precisely so. I ought to know its size and shape, seeing that I have\\r\\nread the advertisement about it in The Times every day lately. It is\\r\\nabsolutely unique, and its value can only be conjectured, but the reward\\r\\noffered of Â£ 1000 is certainly not within a twentieth part of the market\\r\\nprice.”\\r\\n', '\\r\\n“When you see a man with whiskers of that cut and the ‘Pink\\r\\n’un’ protruding out of his pocket, you can always draw him by a\\r\\nbet,” said he. “I daresay that if I had put Â£ 100 down in front of\\r\\nhim, that man would not have given me such complete information as was drawn\\r\\nfrom him by the idea that he was doing me on a wager. Well, Watson, we are, I\\r\\nfancy, nearing the end of our quest, and the only point which remains to be\\r\\ndetermined is whether we should go on to this Mrs. Oakshott to-night, or\\r\\nwhether we should reserve it for to-morrow. It is clear from what that surly\\r\\nfellow said that there are others besides ourselves who are anxious about the\\r\\nmatter, and I should—”\\r\\n', '\\r\\n“When Dr. Roylott was in India he married my mother, Mrs. Stoner, the\\r\\nyoung widow of Major-General Stoner, of the Bengal Artillery. My sister Julia\\r\\nand I were twins, and we were only two years old at the time of my\\r\\nmother’s re-marriage. She had a considerable sum of money—not less\\r\\nthan Â£ 1000 a year—and this she bequeathed to Dr. Roylott entirely while\\r\\nwe resided with him, with a provision that a certain annual sum should be\\r\\nallowed to each of us in the event of our marriage. Shortly after our return to\\r\\nEngland my mother died—she was killed eight years ago in a railway\\r\\naccident near Crewe. Dr. Roylott then abandoned his attempts to establish\\r\\nhimself in practice in London and took us to live with him in the old ancestral\\r\\nhouse at Stoke Moran. The money which my mother had left was enough for all our\\r\\nwants, and there seemed to be no obstacle to our happiness.\\r\\n', '\\r\\n“I have seen the will of the deceased wife,” said he. “To\\r\\ndetermine its exact meaning I have been obliged to work out the present prices\\r\\nof the investments with which it is concerned. The total income, which at the\\r\\ntime of the wife’s death was little short of Â£ 1,100, is now, through the\\r\\nfall in agricultural prices, not more than Â£ 750. Each daughter can claim an\\r\\nincome of Â£ 250, in case of marriage. It is evident, therefore, that if both\\r\\ngirls had married, this beauty would have had a mere pittance, while even one\\r\\nof them would cripple him to a very serious extent. My morning’s work has\\r\\nnot been wasted, since it has proved that he has the very strongest motives for\\r\\nstanding in the way of anything of the sort. And now, Watson, this is too\\r\\nserious for dawdling, especially as the old man is aware that we are\\r\\ninteresting ourselves in his affairs; so if you are ready, we shall call a cab\\r\\nand drive to Waterloo. I should be very much obliged if you would slip your\\r\\nrevolver into your pocket. An Eley’s No. 2 is an excellent argument with\\r\\ngentlemen who can twist steel pokers into knots. That and a tooth-brush are, I\\r\\nthink, all that we need.”\\r\\n', '\\r\\n“I suppose that everyone finds his first independent start in business a\\r\\ndreary experience. To me it has been exceptionally so. During two years I have\\r\\nhad three consultations and one small job, and that is absolutely all that my\\r\\nprofession has brought me. My gross takings amount to Â£ 27 10s. Every\\r\\nday, from nine in the morning until four in the afternoon, I waited in my\\r\\nlittle den, until at last my heart began to sink, and I came to believe that I\\r\\nshould never have any practice at all.\\r\\n', '\\r\\n“‘It is absolutely essential to me,’ said he, ‘that I\\r\\nshould have Â£ 50,000 at once. I could, of course, borrow so trifling a sum ten\\r\\ntimes over from my friends, but I much prefer to make it a matter of business\\r\\nand to carry out that business myself. In my position you can readily\\r\\nunderstand that it is unwise to place one’s self under obligations.’\\r\\n', '\\r\\n“Seeing that my client was anxious to leave, I said no more but, calling\\r\\nfor my cashier, I ordered him to pay over fifty Â£ 1000 notes. When I was alone\\r\\nonce more, however, with the precious case lying upon the table in front of me,\\r\\nI could not but think with some misgivings of the immense responsibility which\\r\\nit entailed upon me. There could be no doubt that, as it was a national\\r\\npossession, a horrible scandal would ensue if any misfortune should occur to\\r\\nit. I already regretted having ever consented to take charge of it. However, it\\r\\nwas too late to alter the matter now, so I locked it up in my private safe and\\r\\nturned once more to my work.\\r\\n', '\\r\\n“‘Look here, dad,’ said he with his eyes cast down,\\r\\n‘can you let me have Â£ 200?’\\r\\n', '\\r\\n“‘Keep your forgiveness for those who ask for it,’ he\\r\\nanswered, turning away from me with a sneer. I saw that he was too hardened for\\r\\nany words of mine to influence him. There was but one way for it. I called in\\r\\nthe inspector and gave him into custody. A search was made at once not only of\\r\\nhis person but of his room and of every portion of the house where he could\\r\\npossibly have concealed the gems; but no trace of them could be found, nor\\r\\nwould the wretched boy open his mouth for all our persuasions and our threats.\\r\\nThis morning he was removed to a cell, and I, after going through all the\\r\\npolice formalities, have hurried round to you to implore you to use your skill\\r\\nin unravelling the matter. The police have openly confessed that they can at\\r\\npresent make nothing of it. You may go to any expense which you think\\r\\nnecessary. I have already offered a reward of Â£ 1000. My God, what shall I do!\\r\\nI have lost my honour, my gems, and my son in one night. Oh, what shall I\\r\\ndo!”\\r\\n', '\\r\\n“You would not think Â£ 1000 apiece an excessive sum for\\r\\nthem?”\\r\\n', '\\r\\n“That would be unnecessary. Three thousand will cover the matter. And\\r\\nthere is a little reward, I fancy. Have you your cheque-book? Here is a pen.\\r\\nBetter make it out for Â£ 4000.”\\r\\n', '\\r\\n“Precisely. It was I. I found that I had my man, so I came home and\\r\\nchanged my clothes. It was a delicate part which I had to play then, for I saw\\r\\nthat a prosecution must be avoided to avert scandal, and I knew that so astute\\r\\na villain would see that our hands were tied in the matter. I went and saw him.\\r\\nAt first, of course, he denied everything. But when I gave him every particular\\r\\nthat had occurred, he tried to bluster and took down a life-preserver from the\\r\\nwall. I knew my man, however, and I clapped a pistol to his head before he\\r\\ncould strike. Then he became a little more reasonable. I told him that we would\\r\\ngive him a price for the stones he held—Â£ 1000 apiece. That brought out\\r\\nthe first signs of grief that he had shown. ‘Why, dash it all!’\\r\\nsaid he, ‘I’ve let them go at six hundred for the three!’ I\\r\\nsoon managed to get the address of the receiver who had them, on promising him\\r\\nthat there would be no prosecution. Off I set to him, and after much chaffering\\r\\nI got our stones at Â£ 1000 apiece. Then I looked in upon your son, told him\\r\\nthat all was right, and eventually got to my bed about two o’clock, after\\r\\nwhat I may call a really hard day’s work.”\\r\\n', '\\r\\n“‘Tut, tut!’ he cried. ‘This is all quite beside\\r\\nthe question. The point is, have you or have you not the bearing and deportment\\r\\nof a lady? There it is in a nutshell. If you have not, you are not fitted for\\r\\nthe rearing of a child who may some day play a considerable part in the history\\r\\nof the country. But if you have why, then, how could any gentleman ask you to\\r\\ncondescend to accept anything under the three figures? Your salary with me,\\r\\nmadam, would commence at Â£ 100 a year.’\\r\\n', '\\r\\n“Well, Mr. Holmes, when I got back to my lodgings and found little enough\\r\\nin the cupboard, and two or three bills upon the table, I began to ask myself\\r\\nwhether I had not done a very foolish thing. After all, if these people had\\r\\nstrange fads and expected obedience on the most extraordinary matters, they\\r\\nwere at least ready to pay for their eccentricity. Very few governesses in\\r\\nEngland are getting Â£ 100 a year. Besides, what use was my hair to me? Many\\r\\npeople are improved by wearing it short and perhaps I should be among the\\r\\nnumber. Next day I was inclined to think that I had made a mistake, and by the\\r\\nday after I was sure of it. I had almost overcome my pride so far as to go back\\r\\nto the agency and inquire whether the place was still open when I received this\\r\\nletter from the gentleman himself. I have it here and I will read it to you:\\r\\n', '\\r\\n“‘The Copper Beeches, near Winchester.\\r\\n“‘DEAR MISS HUNTER,—Miss Stoper has very kindly given me your\\r\\naddress, and I write from here to ask you whether you have reconsidered your\\r\\ndecision. My wife is very anxious that you should come, for she has been much\\r\\nattracted by my description of you. We are willing to give Â£ 30 a quarter, or Â£\\r\\n120 a year, so as to recompense you for any little inconvenience which our fads\\r\\nmay cause you. They are not very exacting, after all. My wife is fond of a\\r\\nparticular shade of electric blue and would like you to wear such a dress\\r\\nindoors in the morning. You need not, however, go to the expense of purchasing\\r\\none, as we have one belonging to my dear daughter Alice (now in Philadelphia),\\r\\nwhich would, I should think, fit you very well. Then, as to sitting here or\\r\\nthere, or amusing yourself in any manner indicated, that need cause you no\\r\\ninconvenience. As regards your hair, it is no doubt a pity, especially as I\\r\\ncould not help remarking its beauty during our short interview, but I am afraid\\r\\nthat I must remain firm upon this point, and I only hope that the increased\\r\\nsalary may recompense you for the loss. Your duties, as far as the child is\\r\\nconcerned, are very light. Now do try to come, and I shall meet you with the\\r\\ndog-cart at Winchester. Let me know your train. Yours faithfully,\\r\\n', '\\r\\n“Well, yes, of course the pay is good—too good. That is what makes\\r\\nme uneasy. Why should they give you Â£ 120 a year, when they could have their\\r\\npick for Â£ 40? There must be some strong reason behind.”\\r\\n']\n",
      "28\n"
     ]
    }
   ],
   "source": [
    "import re\n",
    "import bs4\n",
    "import requests\n",
    "\n",
    "text_book_link = \"http://www.gutenberg.org/files/1661/1661-h/1661-h.htm\"\n",
    "\n",
    "r = requests.get(text_book_link)\n",
    "\n",
    "r.raise_for_status()\n",
    "soup = bs4.BeautifulSoup(r.text, 'html.parser')\n",
    "\n",
    "elements = soup.find_all('p')\n",
    "\n",
    "pattern= re.compile('£ \\d+,?\\d+')\n",
    "\n",
    "p_tags_with = []\n",
    "number_of_symbol = 0\n",
    "\n",
    "\n",
    "for text in elements:\n",
    "    match_obj = pattern.findall(text.getText())\n",
    "    if len(match_obj) >0:\n",
    "        number_of_symbol += len(match_obj)\n",
    "        p_tags_with.append(text.getText())\n",
    "        print(match_obj)\n",
    "        \n",
    "print(p_tags_with)\n",
    "print(number_of_symbol)\n"
   ]
  }
 ],
 "metadata": {
  "kernelspec": {
   "display_name": "Python 3",
   "language": "python",
   "name": "python3"
  },
  "language_info": {
   "codemirror_mode": {
    "name": "ipython",
    "version": 3
   },
   "file_extension": ".py",
   "mimetype": "text/x-python",
   "name": "python",
   "nbconvert_exporter": "python",
   "pygments_lexer": "ipython3",
   "version": "3.7.4"
  }
 },
 "nbformat": 4,
 "nbformat_minor": 2
}
