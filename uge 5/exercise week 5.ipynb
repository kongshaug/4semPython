{
 "cells": [
  {
   "cell_type": "markdown",
   "metadata": {},
   "source": [
    "## Handin exercise for week 5: Pandas\n",
    "\n",
    "Ex1 Use data from Danmarks Statistik - Databanken\n",
    "\n",
    "Go to https://www.dst.dk/da/Statistik/statistikbanken/api\n",
    "\n",
    "Open 'Konsol' and click 'Start Konsol'"
   ]
  },
  {
   "cell_type": "markdown",
   "metadata": {},
   "source": [
    "What is the change in pct of divorced danes from 2008 to 2020?\n",
    "\n",
    "\n",
    "CIVILSTAND;TID;INDHOLD\n",
    "\n",
    "F Fraskilt;2008K4 2008K4;432156\n",
    "\n",
    "F Fraskilt;2020K1 2020K1;544588\n"
   ]
  },
  {
   "cell_type": "code",
   "execution_count": 27,
   "metadata": {},
   "outputs": [
    {
     "name": "stdout",
     "output_type": "stream",
     "text": [
      "0    432156\n",
      "1    544588\n",
      "Name: INDHOLD, dtype: int64\n"
     ]
    },
    {
     "data": {
      "image/png": "[encoded data removed]",
      "text/plain": [
       "<Figure size 432x288 with 1 Axes>"
      ]
     },
     "metadata": {},
     "output_type": "display_data"
    }
   ],
   "source": [
    "import csv\n",
    "import pandas as pd\n",
    "import numpy as np\n",
    "import matplotlib.pyplot as plt\n",
    "\n",
    "df = pd.read_csv(\"Devorce-danes.csv\", delimiter=\";\")\n",
    "\n",
    "dev = df.INDHOLD\n",
    "print(dev)\n",
    "\n",
    "plt.pie(dev, labels=[\"2008\",\"2019\"],autopct='%1.1f%%')\n",
    "\n",
    "plt.show()\n",
    "\n"
   ]
  },
  {
   "cell_type": "markdown",
   "metadata": {},
   "source": [
    "Which of the 5 biggest cities has the highest percentage of 'Never Married'?"
   ]
  },
  {
   "cell_type": "code",
   "execution_count": 28,
   "metadata": {},
   "outputs": [
    {
     "name": "stdout",
     "output_type": "stream",
     "text": [
      "[['ï»¿CIVILSTAND', 'OMRÃ…DE', 'TID', 'INDHOLD'], ['U Ugift', '101 KÃ¸benhavn', '2020K1 2020K1', '412512'], ['U Ugift', '147 Frederiksberg', '2020K1 2020K1', '60781'], ['U Ugift', '185 TÃ¥rnby', '2020K1 2020K1', '19947'], ['U Ugift', '151 Ballerup', '2020K1 2020K1', '22371'], ['U Ugift', '153 BrÃ¸ndby', '2020K1 2020K1', '16245'], ['TOT I alt', '101 KÃ¸benhavn', '2020K1 2020K1', '632340'], ['TOT I alt', '147 Frederiksberg', '2020K1 2020K1', '104305'], ['TOT I alt', '185 TÃ¥rnby', '2020K1 2020K1', '42989'], ['TOT I alt', '151 Ballerup', '2020K1 2020K1', '48602'], ['TOT I alt', '153 BrÃ¸ndby', '2020K1 2020K1', '35090']]\n"
     ]
    }
   ],
   "source": [
    "import csv\n",
    "import pandas as pd\n",
    "import numpy as np\n",
    "import matplotlib.pyplot as plt\n",
    "\n",
    "city_info = []\n",
    "\n",
    "filename = './pro_gift_ugift.csv'\n",
    "\n",
    "with open(filename) as f:\n",
    "    reader = csv.reader(f)\n",
    "\n",
    "    for line in reader:\n",
    "        data_row1 = line[0].split(\";\")\n",
    "        city_info.append(data_row1)\n",
    "        \n",
    "print (city_info)\n",
    "    \n",
    "\n",
    "    \n"
   ]
  },
  {
   "cell_type": "markdown",
   "metadata": {},
   "source": [
    "Which of the 5 biggest cities has the highest percentage of 'Never Married'?"
   ]
  },
  {
   "cell_type": "code",
   "execution_count": 42,
   "metadata": {
    "scrolled": true
   },
   "outputs": [
    {
     "name": "stdout",
     "output_type": "stream",
     "text": [
      "              OMRÅDE  INDHOLD\n",
      "4        153 Brøndby    16245\n",
      "2         185 Tårnby    19947\n",
      "3       151 Ballerup    22371\n",
      "1  147 Frederiksberg    60781\n",
      "0      101 København   412512\n"
     ]
    },
    {
     "data": {
      "text/plain": [
       "<BarContainer object of 5 artists>"
      ]
     },
     "execution_count": 42,
     "metadata": {},
     "output_type": "execute_result"
    },
    {
     "data": {
      "image/png": "[encoded data removed]",
      "text/plain": [
       "<Figure size 432x288 with 1 Axes>"
      ]
     },
     "metadata": {
      "needs_background": "light"
     },
     "output_type": "display_data"
    }
   ],
   "source": [
    "import matplotlib.pyplot as plt\n",
    "\n",
    "df = pd.read_csv('./pro_gift_ugift.csv', delimiter=\";\")\n",
    "\n",
    "#originalt tænkte jeg at finde procent fordelingen af hvor mange ugifte der er i forhold til gifte i hver by og arbejde med det tal.\n",
    "#men pandas er for nyt så tager kun ugift iforhold til de andre byer\n",
    "\n",
    "df_ecential = df[[\"OMRÅDE\", \"INDHOLD\"]][:5]\n",
    "\n",
    "\n",
    "df_ecential = df_ecential.sort_values(by=[\"INDHOLD\"])\n",
    "\n",
    "print(df_ecential)\n",
    "\n",
    "plt.bar(df_ecential.OMRÅDE,df_ecential.INDHOLD)\n",
    "\n",
    "\n"
   ]
  },
  {
   "cell_type": "markdown",
   "metadata": {},
   "source": [
    "Show a bar chart of changes in marrital status in Copenhagen from 2008 till now"
   ]
  },
  {
   "cell_type": "code",
   "execution_count": 140,
   "metadata": {},
   "outputs": [
    {
     "data": {
      "text/html": [
       "<div>\n",
       "<style scoped>\n",
       "    .dataframe tbody tr th:only-of-type {\n",
       "        vertical-align: middle;\n",
       "    }\n",
       "\n",
       "    .dataframe tbody tr th {\n",
       "        vertical-align: top;\n",
       "    }\n",
       "\n",
       "    .dataframe thead th {\n",
       "        text-align: right;\n",
       "    }\n",
       "</style>\n",
       "<table border=\"1\" class=\"dataframe\">\n",
       "  <thead>\n",
       "    <tr style=\"text-align: right;\">\n",
       "      <th></th>\n",
       "      <th>CIVILSTAND</th>\n",
       "      <th>TID</th>\n",
       "      <th>INDHOLD</th>\n",
       "    </tr>\n",
       "  </thead>\n",
       "  <tbody>\n",
       "    <tr>\n",
       "      <td>0</td>\n",
       "      <td>G Gift/separeret</td>\n",
       "      <td>2008</td>\n",
       "      <td>2176977</td>\n",
       "    </tr>\n",
       "    <tr>\n",
       "      <td>1</td>\n",
       "      <td>G Gift/separeret</td>\n",
       "      <td>2009</td>\n",
       "      <td>2188259</td>\n",
       "    </tr>\n",
       "    <tr>\n",
       "      <td>2</td>\n",
       "      <td>G Gift/separeret</td>\n",
       "      <td>2010</td>\n",
       "      <td>2189368</td>\n",
       "    </tr>\n",
       "    <tr>\n",
       "      <td>3</td>\n",
       "      <td>G Gift/separeret</td>\n",
       "      <td>2011</td>\n",
       "      <td>2187702</td>\n",
       "    </tr>\n",
       "    <tr>\n",
       "      <td>4</td>\n",
       "      <td>G Gift/separeret</td>\n",
       "      <td>2012</td>\n",
       "      <td>2178131</td>\n",
       "    </tr>\n",
       "  </tbody>\n",
       "</table>\n",
       "</div>"
      ],
      "text/plain": [
       "         CIVILSTAND   TID  INDHOLD\n",
       "0  G Gift/separeret  2008  2176977\n",
       "1  G Gift/separeret  2009  2188259\n",
       "2  G Gift/separeret  2010  2189368\n",
       "3  G Gift/separeret  2011  2187702\n",
       "4  G Gift/separeret  2012  2178131"
      ]
     },
     "execution_count": 140,
     "metadata": {},
     "output_type": "execute_result"
    },
    {
     "data": {
      "image/png": "[encoded data removed]",
      "text/plain": [
       "<Figure size 432x288 with 1 Axes>"
      ]
     },
     "metadata": {
      "needs_background": "light"
     },
     "output_type": "display_data"
    }
   ],
   "source": [
    "df = pd.read_csv(\"marrige_evelution.csv\", delimiter=\";\")\n",
    "\n",
    "df[\"TID\"] = df[\"TID\"].str[:4]\n",
    "\n",
    "\n",
    "pot = plt.bar(df.TID,df.INDHOLD)\n",
    "\n",
    "plt.ylabel('married/seperated people')\n",
    "plt.xlabel('year')\n",
    "plt.ylim(ymin=2100000)\n",
    "#when y not set to 0 graf can be misleading and give an emprecion that there has been a big change, just wanted to try changing it.\n",
    "df.head()\n",
    "\n",
    "\n"
   ]
  },
  {
   "cell_type": "markdown",
   "metadata": {},
   "source": [
    "Show a bar chart of 'Married' and 'Never Married' for all ages in DK (Hint: 2 bars of different color)"
   ]
  },
  {
   "cell_type": "code",
   "execution_count": 144,
   "metadata": {},
   "outputs": [
    {
     "data": {
      "image/png": "[encoded data removed]",
      "text/plain": [
       "<Figure size 432x288 with 1 Axes>"
      ]
     },
     "metadata": {
      "needs_background": "light"
     },
     "output_type": "display_data"
    }
   ],
   "source": [
    "df = pd.read_csv(\"married_non_married.csv\", delimiter=\";\")\n",
    "\n",
    "df.TID= df[\"TID\"].str[:4]\n",
    "\n",
    "\n",
    "\n",
    "df = df[2:222]\n",
    "\n",
    "df_gift = df[df.CIVILSTAND != \"U Ugift\"]\n",
    "df_ugift = df[df.CIVILSTAND == \"U Ugift\"]\n",
    "\n",
    "\n",
    "\n",
    "df.tail(20)\n",
    "\n",
    "plt.bar(df_ugift.ALDER, df_ugift.INDHOLD, label=\"ugift\",alpha=0.7)\n",
    "plt.bar(df_gift.ALDER, df_gift.INDHOLD,label=\"gift\", alpha=0.7)\n",
    "\n",
    "\n",
    "plt.xticks(rotation=45)\n",
    "plt.legend()\n",
    "plt.plot()\n",
    "\n",
    "\n",
    "plt.show()\n"
   ]
  },
  {
   "cell_type": "code",
   "execution_count": 146,
   "metadata": {},
   "outputs": [
    {
     "data": {
      "text/html": [
       "<div>\n",
       "<style scoped>\n",
       "    .dataframe tbody tr th:only-of-type {\n",
       "        vertical-align: middle;\n",
       "    }\n",
       "\n",
       "    .dataframe tbody tr th {\n",
       "        vertical-align: top;\n",
       "    }\n",
       "\n",
       "    .dataframe thead th {\n",
       "        text-align: right;\n",
       "    }\n",
       "</style>\n",
       "<table border=\"1\" class=\"dataframe\">\n",
       "  <thead>\n",
       "    <tr style=\"text-align: right;\">\n",
       "      <th></th>\n",
       "      <th>ALDER</th>\n",
       "      <th>CIVILSTAND</th>\n",
       "      <th>TID</th>\n",
       "      <th>INDHOLD</th>\n",
       "    </tr>\n",
       "  </thead>\n",
       "  <tbody>\n",
       "    <tr>\n",
       "      <td>0</td>\n",
       "      <td>IALT I alt</td>\n",
       "      <td>G Gift/separeret</td>\n",
       "      <td>2020K1 2020K1</td>\n",
       "      <td>2146017</td>\n",
       "    </tr>\n",
       "    <tr>\n",
       "      <td>1</td>\n",
       "      <td>IALT I alt</td>\n",
       "      <td>U Ugift</td>\n",
       "      <td>2020K1 2020K1</td>\n",
       "      <td>2844060</td>\n",
       "    </tr>\n",
       "    <tr>\n",
       "      <td>2</td>\n",
       "      <td>0 0 år</td>\n",
       "      <td>G Gift/separeret</td>\n",
       "      <td>2020K1 2020K1</td>\n",
       "      <td>0</td>\n",
       "    </tr>\n",
       "    <tr>\n",
       "      <td>3</td>\n",
       "      <td>0 0 år</td>\n",
       "      <td>U Ugift</td>\n",
       "      <td>2020K1 2020K1</td>\n",
       "      <td>61466</td>\n",
       "    </tr>\n",
       "    <tr>\n",
       "      <td>4</td>\n",
       "      <td>1 1 år</td>\n",
       "      <td>G Gift/separeret</td>\n",
       "      <td>2020K1 2020K1</td>\n",
       "      <td>0</td>\n",
       "    </tr>\n",
       "  </tbody>\n",
       "</table>\n",
       "</div>"
      ],
      "text/plain": [
       "        ALDER        CIVILSTAND            TID  INDHOLD\n",
       "0  IALT I alt  G Gift/separeret  2020K1 2020K1  2146017\n",
       "1  IALT I alt           U Ugift  2020K1 2020K1  2844060\n",
       "2      0 0 år  G Gift/separeret  2020K1 2020K1        0\n",
       "3      0 0 år           U Ugift  2020K1 2020K1    61466\n",
       "4      1 1 år  G Gift/separeret  2020K1 2020K1        0"
      ]
     },
     "execution_count": 146,
     "metadata": {},
     "output_type": "execute_result"
    }
   ],
   "source": [
    "df = pd.read_csv(\"https://api.statbank.dk/v1/data/FOLK1A/CSV?valuePresentation=CodeAndValue&delimiter=Semicolon&ALDER=*&CIVILSTAND=F&Tid=&OMR%C3%85DE=151%2C163\", delimiter=\";\")\n",
    "\n",
    "df.head()"
   ]
  }
 ],
 "metadata": {
  "kernelspec": {
   "display_name": "Python 3",
   "language": "python",
   "name": "python3"
  },
  "language_info": {
   "codemirror_mode": {
    "name": "ipython",
    "version": 3
   },
   "file_extension": ".py",
   "mimetype": "text/x-python",
   "name": "python",
   "nbconvert_exporter": "python",
   "pygments_lexer": "ipython3",
   "version": "3.7.4"
  }
 },
 "nbformat": 4,
 "nbformat_minor": 2
}
