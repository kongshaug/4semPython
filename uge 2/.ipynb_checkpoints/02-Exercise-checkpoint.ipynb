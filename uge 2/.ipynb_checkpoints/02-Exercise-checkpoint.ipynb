{
 "cells": [
  {
   "cell_type": "markdown",
   "metadata": {},
   "source": [
    "## Exercise"
   ]
  },
  {
   "cell_type": "markdown",
   "metadata": {},
   "source": [
    "## 1. A "
   ]
  },
  {
   "cell_type": "code",
   "execution_count": 1,
   "metadata": {},
   "outputs": [
    {
     "name": "stdout",
     "output_type": "stream",
     "text": [
      "AAR,BYDEL,ALDER,STATKODE,PERSONER\n",
      "\n",
      "2015,1,0,5100,614\n",
      "\n",
      "2015,1,0,5104,2\n",
      "\n",
      "2015,1,0,5106,1\n",
      "\n",
      "2015,1,0,5110,1\n",
      "\n",
      "2015,1,0,5120,4\n",
      "\n",
      "2015,1,0,5126,1\n",
      "\n",
      "2015,1,0,5130,5\n",
      "\n",
      "2015,1,0,5140,3\n",
      "\n",
      "2015,1,0,5150,5\n",
      "\n",
      "2015,1,0,5154,1\n",
      "\n"
     ]
    }
   ],
   "source": [
    "def print_file_content(file):\n",
    "    with open(file) as file_object:\n",
    "        for line in file_object:\n",
    "            print(line)\n",
    "    \n",
    "print_file_content('./befkbhalderstatkode.csv')"
   ]
  },
  {
   "cell_type": "markdown",
   "metadata": {},
   "source": [
    "def write_list_to_file(output_file, lst) that can take a list of tuple and write each element to a new line in file"
   ]
  },
  {
   "cell_type": "code",
   "execution_count": 63,
   "metadata": {},
   "outputs": [
    {
     "name": "stdout",
     "output_type": "stream",
     "text": [
      "[(1, 1, 1), (2, 4, 8), (3, 9, 27), (4, 16, 64), (5, 25, 125), (6, 36, 216), (7, 49, 343), (8, 64, 512), (9, 81, 729), (10, 100, 1000), (11, 121, 1331), (12, 144, 1728), (13, 169, 2197), (14, 196, 2744), (15, 225, 3375), (16, 256, 4096), (17, 289, 4913), (18, 324, 5832), (19, 361, 6859)]\n"
     ]
    }
   ],
   "source": [
    "def write_list_to_file(output_file, lst):\n",
    "    with open(output_file, 'w') as file_object:\n",
    "        for tuble in lst:\n",
    "            temp = \"\"\n",
    "            for val in tuble:\n",
    "                temp += str(val)+ \",\"\n",
    "            temp = temp[:-1] + \"\\n\"\n",
    "            file_object.write(temp)\n",
    "       \n",
    "    \n",
    "        \n",
    "\n",
    "tuple_list = [(value, value**2,value**3) for value in range(1,20)]\n",
    "print(tuple_list)\n",
    "write_list_to_file(\"test_writing.txt\", tuple_list)\n"
   ]
  },
  {
   "cell_type": "markdown",
   "metadata": {},
   "source": [
    "rewrite the function so that it gets an arbitrary number of strings instead of a list\n"
   ]
  },
  {
   "cell_type": "code",
   "execution_count": 19,
   "metadata": {},
   "outputs": [],
   "source": [
    "def write_list_to_file(output_file, *strs):\n",
    "    with open(output_file, 'w') as file_object:\n",
    "        for string in strs:\n",
    "            file_object.write(string + '\\n')\n",
    "\n",
    "\n",
    "write_list_to_file(\"test_writing.txt\", \"hi\",\"there\",\"here\",\"is\",\"words\")"
   ]
  },
  {
   "cell_type": "markdown",
   "metadata": {},
   "source": [
    "def read_csv(input_file) that take a csv file and read each row into a list"
   ]
  },
  {
   "cell_type": "code",
   "execution_count": 73,
   "metadata": {},
   "outputs": [
    {
     "name": "stdout",
     "output_type": "stream",
     "text": [
      "[['AAR', 'BYDEL', 'ALDER', 'STATKODE', 'PERSONER'], ['2015', '1', '0', '5100', '614'], ['2015', '1', '0', '5104', '2'], ['2015', '1', '0', '5106', '1'], ['2015', '1', '0', '5110', '1'], ['2015', '1', '0', '5120', '4'], ['2015', '1', '0', '5126', '1'], ['2015', '1', '0', '5130', '5'], ['2015', '1', '0', '5140', '3'], ['2015', '1', '0', '5150', '5'], ['2015', '1', '0', '5154', '1']]\n"
     ]
    }
   ],
   "source": [
    "import csv\n",
    "\n",
    "def read_csv(input_file):\n",
    "    my_list = []\n",
    "    with open(input_file) as f:\n",
    "        reader = csv.reader(f)\n",
    "        for row in reader:\n",
    "            my_list.append(row)\n",
    "            \n",
    "        print(my_list)\n",
    "\n",
    "filename = './befkbhalderstatkode.csv'\n",
    "read_csv(filename)"
   ]
  },
  {
   "cell_type": "markdown",
   "metadata": {},
   "source": [
    "Add a functionality so that the file can be called from cli with 2 arguments\n",
    "\n",
    "path to csv file\n",
    "\n",
    "an argument --file file_name that if given will write the content to file_name or otherwise will print it to the console.\n"
   ]
  },
  {
   "cell_type": "code",
   "execution_count": 81,
   "metadata": {},
   "outputs": [
    {
     "ename": "IndentationError",
     "evalue": "unexpected indent (<ipython-input-81-218f2a39e80a>, line 19)",
     "output_type": "error",
     "traceback": [
      "\u001b[1;36m  File \u001b[1;32m\"<ipython-input-81-218f2a39e80a>\"\u001b[1;36m, line \u001b[1;32m19\u001b[0m\n\u001b[1;33m    output_writer.writerow(my_list)\u001b[0m\n\u001b[1;37m    ^\u001b[0m\n\u001b[1;31mIndentationError\u001b[0m\u001b[1;31m:\u001b[0m unexpected indent\n"
     ]
    }
   ],
   "source": [
    "import csv\n",
    "import platform\n",
    "\n",
    "\n",
    "if platform.system() == 'Windows':\n",
    "    newline='\\r\\n'\n",
    "\n",
    "def read_csv(input_file, file_name = None):\n",
    "    my_list = []\n",
    "    with open(input_file) as f:\n",
    "        reader = csv.reader(f)\n",
    "        for row in reader:\n",
    "            my_list.append(row)\n",
    "        if file_name == None:\n",
    "            print(my_list)\n",
    "        else:\n",
    "            with open(file_name, 'w', newline=newline) as file_object:\n",
    "                output_writer = csv.writer(file_object)\n",
    "                for line in my_list:\n",
    "                    output_writer.writerow(line)\n",
    "                    \n",
    "            \n",
    "           \n",
    "        \n",
    "\n",
    "filename = './befkbhalderstatkode.csv'\n",
    "read_csv(filename, \"it_works.txt\")"
   ]
  }
 ],
 "metadata": {
  "kernelspec": {
   "display_name": "Python 3",
   "language": "python",
   "name": "python3"
  },
  "language_info": {
   "codemirror_mode": {
    "name": "ipython",
    "version": 3
   },
   "file_extension": ".py",
   "mimetype": "text/x-python",
   "name": "python",
   "nbconvert_exporter": "python",
   "pygments_lexer": "ipython3",
   "version": "3.7.4"
  }
 },
 "nbformat": 4,
 "nbformat_minor": 2
}
