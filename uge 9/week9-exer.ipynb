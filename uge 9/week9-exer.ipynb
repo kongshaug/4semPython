{
 "cells": [
  {
   "cell_type": "markdown",
   "metadata": {},
   "source": [
    "exer from: happy county\n",
    "\n",
    "https://github.com/AndreasVikke/CPH-Business-Python/blob/master/Week9/WeekExcersies/ip-logfile.log\n",
    "\n",
    "\n",
    "1. Use regex on the data to get every different ip save the ip’s in a list.\n",
    "\n",
    "\n",
    "2. Use selenium(or hint) to paste an ip from the list to: https://www.whois.com/whois/ and get NetName, NetRange, OrgName, Address, City, StateProv, PostalCode Country, RegDate.\n",
    "\n",
    "\n",
    "3. Store some of the data in a database with PyMySQL and create a flask server with a GET endpoint to show all the data stored in the DB. (Optionally deploy flask server on your droplet)\n",
    "\n",
    "\n",
    "- Data is a CSV file use your knowledge about CSV. \n",
    "- Save regex result to a set to easy deal with duplicates.\n",
    "- You can use https://whois.whoisxmlapi.com/ instead of selenium"
   ]
  },
  {
   "cell_type": "code",
   "execution_count": 9,
   "metadata": {},
   "outputs": [
    {
     "name": "stdout",
     "output_type": "stream",
     "text": [
      "['5.199.130.188', '162.247.74.217', '50.35.73.6', '89.163.239.216', '108.87.82.181', '216.151.180.191', '139.99.172.11', '217.170.205.107', '68.184.5.12', '185.107.47.171', '185.220.101.57', '185.220.102.4', '193.218.118.90', '199.249.230.69', '199.249.230.123', '185.220.101.25', '209.141.34.95', '213.179.54.190', '174.130.215.196', '185.220.101.6', '68.184.5.12', '199.249.230.69', '89.163.239.216']\n"
     ]
    }
   ],
   "source": [
    "import re\n",
    "ips= []\n",
    "\n",
    "with open(\"iperne.txt\", \"r\") as file:\n",
    "    reg = re.compile(\"\\d{1,3}\\.\\d{1,3}\\.\\d{1,3}\\.\\d{1,3}\")\n",
    "    for line in file:\n",
    "        ips.append(reg.search(line).group())\n",
    "print(ips)\n",
    "       "
   ]
  },
  {
   "cell_type": "markdown",
   "metadata": {},
   "source": [
    "\n",
    "2. Use selenium(or hint) to paste an ip from the list to: https://www.whois.com/whois/ and get NetName, NetRange, OrgName, Address, City, StateProv, PostalCode Country, RegDate.\n"
   ]
  },
  {
   "cell_type": "code",
   "execution_count": 51,
   "metadata": {},
   "outputs": [],
   "source": [
    "from selenium import webdriver\n",
    "import random\n",
    "import re\n",
    "\n",
    "\n",
    "browser = webdriver.Chrome(\"chromedriver.exe\")\n",
    "browser.get(\"https://www.whois.com/whois/\")\n",
    "\n",
    "ip = ips[random.randint(0,len(ips)-1)]\n",
    "\n",
    "browser.find_element_by_id(\"query\").send_keys(ip)\n",
    "\n",
    "browser.find_element_by_tag_name(\"button\").click()\n",
    "\n",
    "\n",
    "text = browser.find_element_by_tag_name(\"pre\").text\n",
    "\n",
    "who_dic = {}\n",
    "\n",
    "reg_net = re.compile(r\"(n|N)et(n|N)ame: *(.*)\")\n",
    "\n",
    "net_name_groups = reg_net.search(text)\n",
    "\n",
    "who_dic[\"net_name\"] = net_name_groups.group(3)\n",
    "who_dic[\"ip\"] = ip\n",
    "\n",
    "#reg_range = re.compile(r\"(C|C)reated: *(.*)\")\n",
    "\n",
    "\n",
    "#net_name_groups = reg_range.search(text)\n",
    "\n",
    "#who_dic[\"reg_range\"] = net_name_groups.group(2)\n",
    "\n",
    "#print(who_dic[\"reg_range\"])\n",
    "#print(net_name_groups.group(2))\n",
    "\n",
    "\n"
   ]
  },
  {
   "cell_type": "markdown",
   "metadata": {},
   "source": [
    "\n",
    "3. Store some of the data in a database with PyMySQL and\n",
    "\n",
    "create a flask server with a GET endpoint to show all the data stored in the DB. (Optionally deploy flask server on your droplet)\n"
   ]
  },
  {
   "cell_type": "code",
   "execution_count": 2,
   "metadata": {},
   "outputs": [
    {
     "ename": "NameError",
     "evalue": "name 'who_dic' is not defined",
     "output_type": "error",
     "traceback": [
      "\u001b[1;31m---------------------------------------------------------------------------\u001b[0m",
      "\u001b[1;31mNameError\u001b[0m                                 Traceback (most recent call last)",
      "\u001b[1;32m<ipython-input-2-75ba3c0c6f67>\u001b[0m in \u001b[0;36m<module>\u001b[1;34m\u001b[0m\n\u001b[0;32m      5\u001b[0m \u001b[0mcursor\u001b[0m \u001b[1;33m=\u001b[0m \u001b[0mconnection\u001b[0m\u001b[1;33m.\u001b[0m\u001b[0mcursor\u001b[0m\u001b[1;33m(\u001b[0m\u001b[1;33m)\u001b[0m\u001b[1;33m\u001b[0m\u001b[1;33m\u001b[0m\u001b[0m\n\u001b[0;32m      6\u001b[0m \u001b[1;33m\u001b[0m\u001b[0m\n\u001b[1;32m----> 7\u001b[1;33m \u001b[0mquary\u001b[0m \u001b[1;33m=\u001b[0m \u001b[1;34m\"INSERT INTO test.ips (ip, netname) VALUES ('%s','%s')\"\u001b[0m \u001b[1;33m%\u001b[0m \u001b[1;33m(\u001b[0m\u001b[0mwho_dic\u001b[0m\u001b[1;33m[\u001b[0m\u001b[1;34m\"ip\"\u001b[0m\u001b[1;33m]\u001b[0m\u001b[1;33m,\u001b[0m\u001b[0mwho_dic\u001b[0m\u001b[1;33m[\u001b[0m\u001b[1;34m\"net_name\"\u001b[0m\u001b[1;33m]\u001b[0m\u001b[1;33m)\u001b[0m\u001b[1;33m\u001b[0m\u001b[1;33m\u001b[0m\u001b[0m\n\u001b[0m\u001b[0;32m      8\u001b[0m \u001b[1;33m\u001b[0m\u001b[0m\n\u001b[0;32m      9\u001b[0m \u001b[0mcursor\u001b[0m\u001b[1;33m.\u001b[0m\u001b[0mexecute\u001b[0m\u001b[1;33m(\u001b[0m\u001b[0mquary\u001b[0m\u001b[1;33m)\u001b[0m\u001b[1;33m\u001b[0m\u001b[1;33m\u001b[0m\u001b[0m\n",
      "\u001b[1;31mNameError\u001b[0m: name 'who_dic' is not defined"
     ]
    }
   ],
   "source": [
    "import pymysql\n",
    "\n",
    "connection = pymysql.connect(user=\"dev\", password=\"ax2\", host='127.0.0.1',port=3307,db='test')\n",
    "\n",
    "cursor = connection.cursor()\n",
    "\n",
    "quary = \"INSERT INTO test.ips (ip, netname) VALUES ('%s','%s')\" % (who_dic[\"ip\"],who_dic[\"net_name\"])\n",
    "\n",
    "cursor.execute(quary)\n",
    "\n",
    "connection.commit()\n",
    "cursor.close()\n",
    "\n",
    "\n",
    "print (quary)"
   ]
  },
  {
   "cell_type": "markdown",
   "metadata": {},
   "source": [
    "solution found in folder 'flask'"
   ]
  },
  {
   "cell_type": "code",
   "execution_count": 19,
   "metadata": {},
   "outputs": [
    {
     "name": "stdout",
     "output_type": "stream",
     "text": [
      "<class 'list'>\n"
     ]
    }
   ],
   "source": [
    "connection = pymysql.connect(user=\"dev\", password=\"ax2\", host='127.0.0.1',port=3307,db='test')\n",
    "\n",
    "cursor = connection.cursor()\n",
    "\n",
    "quary = \"SELECT * FROM test.ips\"\n",
    "\n",
    "cursor.execute(quary)\n",
    "\n",
    "ips=[]\n",
    "\n",
    "for data in cursor:\n",
    "    ips.append(data)\n",
    "\n",
    "print(type(ips))"
   ]
  }
 ],
 "metadata": {
  "kernelspec": {
   "display_name": "Python 3",
   "language": "python",
   "name": "python3"
  },
  "language_info": {
   "codemirror_mode": {
    "name": "ipython",
    "version": 3
   },
   "file_extension": ".py",
   "mimetype": "text/x-python",
   "name": "python",
   "nbconvert_exporter": "python",
   "pygments_lexer": "ipython3",
   "version": "3.7.4"
  }
 },
 "nbformat": 4,
 "nbformat_minor": 2
}
