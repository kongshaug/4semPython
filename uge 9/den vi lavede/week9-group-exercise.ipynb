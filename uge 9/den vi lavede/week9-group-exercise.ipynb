{
 "cells": [
  {
   "cell_type": "markdown",
   "metadata": {},
   "source": [
    "## Week 9 Exercise \n",
    "Made by: Grieving Banana\n",
    "\n",
    "\n",
    "### Creating the data files: kennels_and_dogs.txt and registrations.txt"
   ]
  },
  {
   "cell_type": "code",
   "execution_count": 154,
   "metadata": {},
   "outputs": [
    {
     "name": "stdout",
     "output_type": "stream",
     "text": [
      "[{'name': \"Kennel Juni's\"}, {'name': 'Dansk Kennel Klub'}, {'name': 'Kennel Vestegnen'}, {'name': \"Nanner's Hundecenter\"}, {'name': 'BELLA', 'breed': 'Yorkshire Terrier'}, {'name': 'BALDER', 'breed': 'Rottweiler'}, {'name': 'MILLE', 'breed': 'Bulldog'}, {'name': 'MAX', 'breed': 'Poodle'}, {'name': 'MAX', 'breed': 'German Shorthaired Pointer'}, {'name': 'LUNA', 'breed': 'Yorkshire Terrier'}, {'name': 'MILLE', 'breed': 'French Bulldog'}, {'name': 'BELLA', 'breed': 'Labrador Retriever'}, {'name': 'BUSTER', 'breed': 'Rottweiler'}, {'name': 'MAX', 'breed': 'Labrador Retriever'}, {'name': 'LUNA', 'breed': 'Beagle'}, {'name': 'MAX', 'breed': 'Poodle'}, {'name': 'MILLE', 'breed': 'Bulldog'}, {'name': 'BALDER', 'breed': 'French Bulldog'}, {'name': 'CHARLIE', 'breed': 'German Shorthaired Pointer'}, {'name': 'MILLE', 'breed': 'Bulldog'}, {'name': 'BELLA', 'breed': 'German Shorthaired Pointer'}, {'name': 'LUNA', 'breed': 'French Bulldog'}, {'name': 'CHARLIE', 'breed': 'Labrador Retriever'}, {'name': 'BUSTER', 'breed': 'Golden Retriever'}, {'name': 'MAX', 'breed': 'Golden Retriever'}, {'name': 'BELLA', 'breed': 'Beagle'}, {'name': 'BALDER', 'breed': 'Golden Retriever'}, {'name': 'CHARLIE', 'breed': 'Poodle'}, {'name': 'BELLA', 'breed': 'Rottweiler'}, {'name': 'BALDER', 'breed': 'French Bulldog'}, {'name': 'BALDER', 'breed': 'German Shepherd'}, {'name': 'MOLLY', 'breed': 'Bulldog'}, {'name': 'BALDER', 'breed': 'German Shorthaired Pointer'}, {'name': 'BALDER', 'breed': 'Bulldog'}, {'name': 'MILLE', 'breed': 'French Bulldog'}, {'name': 'BELLA', 'breed': 'German Shorthaired Pointer'}, {'name': 'BALDER', 'breed': 'Labrador Retriever'}, {'name': 'BELLA', 'breed': 'Rottweiler'}, {'name': 'BUSTER', 'breed': 'Yorkshire Terrier'}, {'name': 'CHARLIE', 'breed': 'Poodle'}, {'name': 'MAX', 'breed': 'German Shorthaired Pointer'}, {'name': 'MOLLY', 'breed': 'Labrador Retriever'}, {'name': 'BUSTER', 'breed': 'German Shepherd'}, {'name': 'MAX', 'breed': 'Beagle'}, {'name': 'BUSTER', 'breed': 'Poodle'}, {'name': 'BELLA', 'breed': 'Golden Retriever'}, {'name': 'BELLA', 'breed': 'Rottweiler'}, {'name': 'MAX', 'breed': 'German Shorthaired Pointer'}, {'name': 'MILLE', 'breed': 'Rottweiler'}, {'name': 'LUNA', 'breed': 'Rottweiler'}, {'name': 'MOLLY', 'breed': 'Beagle'}, {'name': 'MILLE', 'breed': 'Beagle'}, {'name': 'BELLA', 'breed': 'German Shorthaired Pointer'}, {'name': 'MILLE', 'breed': 'German Shorthaired Pointer'}, {'name': 'MILLE', 'breed': 'German Shorthaired Pointer'}, {'name': 'BUSTER', 'breed': 'Yorkshire Terrier'}, {'name': 'MILLE', 'breed': 'Labrador Retriever'}, {'name': 'LUNA', 'breed': 'Yorkshire Terrier'}, {'name': 'BELLA', 'breed': 'French Bulldog'}, {'name': 'BELLA', 'breed': 'Rottweiler'}, {'name': 'CHARLIE', 'breed': 'Golden Retriever'}, {'name': 'MILLE', 'breed': 'Rottweiler'}, {'name': 'MILLE', 'breed': 'Bulldog'}, {'name': 'LUNA', 'breed': 'Yorkshire Terrier'}, {'name': 'BUSTER', 'breed': 'Bulldog'}, {'name': 'LUNA', 'breed': 'Labrador Retriever'}, {'name': 'CHARLIE', 'breed': 'Beagle'}, {'name': 'MOLLY', 'breed': 'Beagle'}, {'name': 'MAX', 'breed': 'Golden Retriever'}, {'name': 'BELLA', 'breed': 'Bulldog'}, {'name': 'BALDER', 'breed': 'Golden Retriever'}, {'name': 'LUNA', 'breed': 'German Shepherd'}, {'name': 'BALDER', 'breed': 'Labrador Retriever'}, {'name': 'CHARLIE', 'breed': 'Beagle'}, {'name': 'CHARLIE', 'breed': 'Labrador Retriever'}, {'name': 'MOLLY', 'breed': 'Labrador Retriever'}, {'name': 'LUNA', 'breed': 'Poodle'}, {'name': 'CHARLIE', 'breed': 'Beagle'}, {'name': 'BALDER', 'breed': 'Beagle'}, {'name': 'CHARLIE', 'breed': 'Golden Retriever'}, {'name': 'MAX', 'breed': 'French Bulldog'}, {'name': 'BELLA', 'breed': 'French Bulldog'}, {'name': 'MOLLY', 'breed': 'German Shepherd'}, {'name': 'CHARLIE', 'breed': 'German Shorthaired Pointer'}, {'name': 'BALDER', 'breed': 'Golden Retriever'}, {'name': 'MOLLY', 'breed': 'German Shorthaired Pointer'}, {'name': 'MOLLY', 'breed': 'Rottweiler'}, {'name': 'LUNA', 'breed': 'German Shorthaired Pointer'}, {'name': 'MILLE', 'breed': 'Beagle'}, {'name': 'BELLA', 'breed': 'Beagle'}, {'name': 'MAX', 'breed': 'Poodle'}, {'name': 'MAX', 'breed': 'Golden Retriever'}, {'name': 'MOLLY', 'breed': 'Beagle'}, {'name': 'BALDER', 'breed': 'German Shorthaired Pointer'}, {'name': 'BELLA', 'breed': 'Poodle'}, {'name': 'BUSTER', 'breed': 'Yorkshire Terrier'}, {'name': 'MOLLY', 'breed': 'Labrador Retriever'}, {'name': 'MOLLY', 'breed': 'Beagle'}, {'name': 'LUNA', 'breed': 'Rottweiler'}, {'name': 'BALDER', 'breed': 'Labrador Retriever'}, {'name': 'BUSTER', 'breed': 'French Bulldog'}, {'name': 'BELLA', 'breed': 'Yorkshire Terrier'}, {'name': 'BELLA', 'breed': 'German Shorthaired Pointer'}, {'name': 'CHARLIE', 'breed': 'German Shorthaired Pointer'}]\n"
     ]
    }
   ],
   "source": [
    "import random\n",
    "\n",
    "\n",
    "names = [\"BELLA\",\"MOLLY\", \"LUNA\",\"MILLE\",\"CHARLIE\",\"BALDER\",\"MAX\",\"BUSTER\"]\n",
    "breed = [\"Labrador Retriever\", \"German Shepherd\", \"Golden Retriever\", \"French Bulldog\", \"Bulldog\", \"Beagle\", \"Poodle\", \"Rottweiler\", \"German Shorthaired Pointer\", \"Yorkshire Terrier\"]\n",
    "\n",
    "kennels = [\"Kennel Juni's\", \"Dansk Kennel Klub\", \"Kennel Vestegnen\", \"Nanner's Hundecenter\"]\n",
    "\n",
    "def create_list(number):\n",
    "    dogs = []\n",
    "    \n",
    "    #adding the kennels as the first 4 elements\n",
    "    for name in kennels:\n",
    "        kennel = {\"name\": name}\n",
    "        dogs.append(kennel)\n",
    "    \n",
    "    #adding the dogs\n",
    "    for i in range(number):\n",
    "        dog = {\"name\": random.choice(names), \"breed\": random.choice(breed)}\n",
    "        dogs.append(dog)\n",
    "    \n",
    "    return dogs\n",
    "\n",
    "dogs = create_list(100)\n",
    "print(dogs)\n"
   ]
  },
  {
   "cell_type": "code",
   "execution_count": 155,
   "metadata": {},
   "outputs": [
    {
     "name": "stdout",
     "output_type": "stream",
     "text": [
      "[(2, 4), (2, 5), (2, 6), (3, 7), (1, 8), (2, 9), (2, 10), (1, 11), (2, 12), (0, 13), (3, 14), (3, 15), (1, 16), (2, 17), (0, 18), (3, 19), (2, 20), (3, 21), (1, 22), (1, 23), (1, 24), (1, 25), (0, 26), (3, 27), (1, 28), (0, 29), (3, 30), (2, 31), (0, 32), (2, 33), (0, 34), (1, 35), (0, 36), (3, 37), (1, 38), (2, 39), (1, 40), (3, 41), (1, 42), (3, 43), (1, 44), (1, 45), (1, 46), (0, 47), (2, 48), (2, 49), (2, 50), (1, 51), (3, 52), (3, 53), (2, 54), (2, 55), (3, 56), (3, 57), (2, 58), (1, 59), (1, 60), (0, 61), (0, 62), (2, 63), (1, 64), (1, 65), (2, 66), (3, 67), (3, 68), (3, 69), (0, 70), (2, 71), (0, 72), (1, 73), (2, 74), (3, 75), (0, 76), (3, 77), (3, 78), (2, 79), (0, 80), (0, 81), (1, 82), (3, 83), (2, 84), (0, 85), (1, 86), (2, 87), (3, 88), (3, 89), (3, 90), (1, 91), (3, 92), (2, 93), (2, 94), (1, 95), (0, 96), (2, 97), (2, 98), (0, 99), (1, 100), (0, 101), (3, 102), (2, 103)]\n"
     ]
    }
   ],
   "source": [
    "kennel_numbers = []\n",
    "dog_numbers = []\n",
    "\n",
    "#Generating a list with ID's from 4-103(the dogs) and a list of random selection of the kennels\n",
    "for i in range(4,104):\n",
    "    no_kennel = random.randint(0, 3)\n",
    "    kennel_numbers.append(no_kennel)\n",
    "    dog_numbers.append(i)\n",
    "    \n",
    "registrations = list(zip(kennel_numbers, dog_numbers)) \n",
    "print(registrations)"
   ]
  },
  {
   "cell_type": "code",
   "execution_count": 156,
   "metadata": {},
   "outputs": [],
   "source": [
    "with open(\"registrations.txt\",\"w\") as file:\n",
    "        file.write(str(registrations))\n",
    "\n",
    "with open(\"kennels_and_dogs.txt\",\"w\") as file:\n",
    "          file.write(str(dogs))\n",
    "    "
   ]
  },
  {
   "cell_type": "markdown",
   "metadata": {},
   "source": [
    "### Exercise 1 - Graphs\n",
    "\n",
    "A. Read the list of dictionaries of dogs and kennels and the list of registrations from the textfiles: kennels_and_dogs.txt and registrations.txt\n",
    "\n",
    "Hint: import ast"
   ]
  },
  {
   "cell_type": "code",
   "execution_count": 157,
   "metadata": {},
   "outputs": [],
   "source": [
    "import ast\n",
    "\n",
    "with open('kennels_and_dogs.txt') as f:\n",
    "    kennels_and_dogs = ast.literal_eval(f.read())\n",
    "\n",
    "with open('registrations.txt') as f:\n",
    "    registrations = ast.literal_eval(f.read())\n",
    "    \n"
   ]
  },
  {
   "cell_type": "code",
   "execution_count": 158,
   "metadata": {},
   "outputs": [
    {
     "name": "stdout",
     "output_type": "stream",
     "text": [
      "[{'name': \"Kennel Juni's\"}, {'name': 'Dansk Kennel Klub'}, {'name': 'Kennel Vestegnen'}, {'name': \"Nanner's Hundecenter\"}, {'name': 'BELLA', 'breed': 'Yorkshire Terrier'}]\n"
     ]
    }
   ],
   "source": [
    "print (kennels_and_dogs[:5])"
   ]
  },
  {
   "cell_type": "markdown",
   "metadata": {},
   "source": [
    "B. Make a graph from the two lists and draw it\n",
    "\n",
    "Hint: install pygraphviz (with pip or conda)"
   ]
  },
  {
   "cell_type": "code",
   "execution_count": 159,
   "metadata": {},
   "outputs": [
    {
     "name": "stdout",
     "output_type": "stream",
     "text": [
      "Name: \n",
      "Type: DiGraph\n",
      "Number of nodes: 104\n",
      "Number of edges: 100\n",
      "Average in degree:   0.9615\n",
      "Average out degree:   0.9615\n"
     ]
    }
   ],
   "source": [
    "from networkx.drawing.nx_agraph import graphviz_layout, write_dot\n",
    "import matplotlib.pyplot as plt\n",
    "import pygraphviz\n",
    "import networkx as nx\n",
    "\n",
    "def create_graph():\n",
    "    graph = nx.DiGraph() \n",
    "    graph.clear()\n",
    "    \n",
    "    for idx, info in enumerate(kennels_and_dogs):\n",
    "        graph.add_node(idx, node=info)\n",
    "    \n",
    "    graph.add_edges_from(registrations)\n",
    "\n",
    "    return graph\n",
    "\n",
    "def draw_graph(graph):\n",
    "    nx.draw(graph, pos=graphviz_layout(graph),\n",
    "            node_size=30, width=.05, cmap=plt.cm.Blues, \n",
    "            with_labels=True, node_color=range(len(graph)))\n",
    "\n",
    "    \n",
    "graph = create_graph()\n",
    "print(nx.info(graph))\n",
    "#draw_graph(graph)"
   ]
  },
  {
   "cell_type": "markdown",
   "metadata": {},
   "source": [
    "## Exercise 2 \n",
    "\n",
    "A. Which kennel has the most dogs registered?"
   ]
  },
  {
   "cell_type": "code",
   "execution_count": 160,
   "metadata": {},
   "outputs": [
    {
     "name": "stdout",
     "output_type": "stream",
     "text": [
      "Number of dogs: 29\n",
      "Kennel index: 2\n",
      "The kennel with the most dogs is: Kennel Vestegnen\n"
     ]
    }
   ],
   "source": [
    "import numpy as np\n",
    "\n",
    "node_array = np.array([graph.degree(n) for n in graph.nodes()])\n",
    "max = node_array.max()\n",
    "max_idx = np.argmax(node_array)\n",
    "print('Number of dogs: ' + str(max))\n",
    "print('Kennel index: ' + str(max_idx))\n",
    "\n",
    "print('The kennel with the most dogs is: ' + graph.nodes[max_idx]['node']['name'])"
   ]
  },
  {
   "cell_type": "markdown",
   "metadata": {},
   "source": [
    "B. Get a list of all the dogs registered at this kennel"
   ]
  },
  {
   "cell_type": "code",
   "execution_count": 161,
   "metadata": {},
   "outputs": [
    {
     "name": "stdout",
     "output_type": "stream",
     "text": [
      "[{'name': 'BELLA', 'breed': 'Yorkshire Terrier'}, {'name': 'BALDER', 'breed': 'Rottweiler'}, {'name': 'MILLE', 'breed': 'Bulldog'}, {'name': 'LUNA', 'breed': 'Yorkshire Terrier'}, {'name': 'MILLE', 'breed': 'French Bulldog'}, {'name': 'BUSTER', 'breed': 'Rottweiler'}, {'name': 'BALDER', 'breed': 'French Bulldog'}, {'name': 'BELLA', 'breed': 'German Shorthaired Pointer'}, {'name': 'MOLLY', 'breed': 'Bulldog'}, {'name': 'BALDER', 'breed': 'Bulldog'}, {'name': 'CHARLIE', 'breed': 'Poodle'}, {'name': 'MILLE', 'breed': 'Rottweiler'}, {'name': 'LUNA', 'breed': 'Rottweiler'}, {'name': 'MOLLY', 'breed': 'Beagle'}, {'name': 'MILLE', 'breed': 'German Shorthaired Pointer'}, {'name': 'BUSTER', 'breed': 'Yorkshire Terrier'}, {'name': 'BELLA', 'breed': 'French Bulldog'}, {'name': 'LUNA', 'breed': 'Yorkshire Terrier'}, {'name': 'CHARLIE', 'breed': 'Beagle'}, {'name': 'LUNA', 'breed': 'German Shepherd'}, {'name': 'CHARLIE', 'breed': 'Labrador Retriever'}, {'name': 'CHARLIE', 'breed': 'Golden Retriever'}, {'name': 'BALDER', 'breed': 'Golden Retriever'}, {'name': 'LUNA', 'breed': 'German Shorthaired Pointer'}, {'name': 'BALDER', 'breed': 'German Shorthaired Pointer'}, {'name': 'BELLA', 'breed': 'Poodle'}, {'name': 'MOLLY', 'breed': 'Beagle'}, {'name': 'LUNA', 'breed': 'Rottweiler'}, {'name': 'CHARLIE', 'breed': 'German Shorthaired Pointer'}]\n"
     ]
    }
   ],
   "source": [
    "dog_edges = graph.edges(max_idx)\n",
    "\n",
    "result = []\n",
    "\n",
    "for edge in dog_edges:\n",
    "    result.append(graph.nodes[edge[1]]['node'])\n",
    "\n",
    "print(result)\n"
   ]
  },
  {
   "cell_type": "markdown",
   "metadata": {},
   "source": [
    "\n",
    "# 3. exercise \n",
    "\n",
    "first make the result into a pandas dataframe \n",
    "\n",
    "then make a function that given a name goes to https://www.petfinder.com/dog-breeds/ findes the breed and prints the description of the breed.\n",
    "\n",
    "then call the function with random breeds from the dataframe to test your function\n",
    "        \n",
    "        \n"
   ]
  },
  {
   "cell_type": "code",
   "execution_count": 243,
   "metadata": {},
   "outputs": [
    {
     "name": "stdout",
     "output_type": "stream",
     "text": [
      "['Yorkshire Terrier', 'Rottweiler', 'Bulldog', 'Yorkshire Terrier', 'French Bulldog', 'Rottweiler', 'French Bulldog', 'German Shorthaired Pointer', 'Bulldog', 'Bulldog', 'Poodle', 'Rottweiler', 'Rottweiler', 'Beagle', 'German Shorthaired Pointer', 'Yorkshire Terrier', 'French Bulldog', 'Yorkshire Terrier', 'Beagle', 'German Shepherd', 'Labrador Retriever', 'Golden Retriever', 'Golden Retriever', 'German Shorthaired Pointer', 'German Shorthaired Pointer', 'Poodle', 'Beagle', 'Rottweiler', 'German Shorthaired Pointer']\n",
      "The Yorkshire Terrier’s heritage can be seen in their sharp, intelligent expression, confident carriage, and compact body. They a small breed, however, now more noted for their long, silky hair, which is often fine, glossy, and perfectly straight. Their color is a hallmark of this breed, with the blue a dark steel blue and the tan a clear tan.\n"
     ]
    }
   ],
   "source": [
    "import pandas as pd\n",
    "from selenium import webdriver\n",
    "\n",
    "from selenium.webdriver.common.keys import Keys\n",
    "import random\n",
    "import time\n",
    "names=[]\n",
    "breeds = []\n",
    "\n",
    "\n",
    "\n",
    "for dog in result:\n",
    "    names.append(dog[\"name\"])\n",
    "    breeds.append(dog[\"breed\"])\n",
    "\n",
    "print (breeds)\n",
    "\n",
    "def get_info(breed):\n",
    "    browser = webdriver.Chrome(\"chromedriver.exe\")\n",
    "    browser.get('https://www.petfinder.com/dog-breeds/')\n",
    "    \n",
    "    browser.find_element_by_xpath(\"/html/body/pf-app/div[3]/div/div/div[1]/div/div[1]/div/div/div[3]/div[1]/input\").send_keys(breed)\n",
    "    time.sleep(4)\n",
    "    browser.find_element_by_link_text(breed).click()\n",
    "\n",
    "    text = browser.find_element_by_xpath('/html/body/pf-app/div[3]/div/div/div[1]/div/div[1]/div/div[1]/div[3]/div[2]/div[1]/p')\n",
    "\n",
    "    return text.text\n",
    "\n",
    "\n",
    "print(get_info(breeds[random.randint(0,10)]))\n",
    "\n"
   ]
  }
 ],
 "metadata": {
  "kernelspec": {
   "display_name": "Python 3",
   "language": "python",
   "name": "python3"
  },
  "language_info": {
   "codemirror_mode": {
    "name": "ipython",
    "version": 3
   },
   "file_extension": ".py",
   "mimetype": "text/x-python",
   "name": "python",
   "nbconvert_exporter": "python",
   "pygments_lexer": "ipython3",
   "version": "3.7.4"
  }
 },
 "nbformat": 4,
 "nbformat_minor": 2
}
