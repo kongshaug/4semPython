{
 "cells": [
  {
   "cell_type": "markdown",
   "metadata": {},
   "source": [
    "## exercive 6\n",
    "\n",
    "Create a module containing a class with the following methods:\n",
    "\n",
    "init(self, url_list)\n",
    "\n",
    "download(url,filename) raises NotFoundException when url returns 404\n",
    "\n",
    "multi_download(url_list) uses threads to download multiple urls as text and stores filenames as a property\n",
    "\n",
    "iter() returns an iterator\n",
    "\n",
    "next() returns the next filename (and stops when there are no more)\n",
    "\n",
    "urllist_generator() returns a generator to loop through the urls\n",
    "\n",
    "avg_vowels(text) - a rough estimate on readability returns average number of vowels in the words of the text\n",
    "\n",
    "NOT DONE!!: hardest_read() returns the filename of the text with the highest vowel score (use all the cpu cores on the computer for this work.\n"
   ]
  },
  {
   "cell_type": "code",
   "execution_count": 7,
   "metadata": {},
   "outputs": [
    {
     "name": "stdout",
     "output_type": "stream",
     "text": [
      "url1\n",
      "url1\n",
      "url2\n",
      "url3\n"
     ]
    }
   ],
   "source": [
    "import requests\n",
    "from concurrent.futures import ThreadPoolExecutor\n",
    "from concurrent.futures import ProcessPoolExecutor\n",
    "import re\n",
    "import time\n",
    "\n",
    "\n",
    "class exercice:\n",
    "    \n",
    "    def __init__(self, url_list):\n",
    "        self.url_list = url_list\n",
    "        self.url_point = 0\n",
    "    \n",
    "    def download(self, url, filename):\n",
    "        r = requests.get(url)\n",
    "        status = r.status_code\n",
    "        if status == 404:\n",
    "            raise NotFoundException\n",
    "        with open(filename, 'w') as file_object:\n",
    "            file_object.write(r.text).decode(errors ='replace')\n",
    "            \n",
    "    def multi_download(self, url_list):\n",
    "        \"\"\"multi_download(url_list) uses threads to download multiple urls as text and stores filenames as a property\"\"\"\n",
    "        with ThreadPoolExecutor(len(url_list)) as tpe:\n",
    "            #res = tpe.map(download, url_list)\n",
    "            for url in url_list:\n",
    "                res = tpe.submit(self.download(url, url[8:15]+\".txt\"))\n",
    "           \n",
    "    def __iter__(self):\n",
    "        return self\n",
    "    \n",
    "    def __next__(self):\n",
    "        if self.url_point >= len(self.url_list):\n",
    "            raise StopIteration\n",
    "        self.url_point += 1\n",
    "        return self.url_list[self.url_point-1]\n",
    "    \n",
    "    def urllist_generator(self):\n",
    "        pointer = 0\n",
    "        while pointer < len(self.url_list):\n",
    "            yield self.url_list[pointer]\n",
    "            pointer += 1\n",
    "        \n",
    "            \n",
    "    def avg_vowels(self, text):\n",
    "        \"\"\"a rough estimate on readability returns average number of vowels in the words of the text \"\"\"\n",
    "        \n",
    "        print(\"here: \" + text)\n",
    "        r1 = len(re.findall(\"[aeiou]\",text))\n",
    "        r2 = len(re.findall(\"\\w+\",text))\n",
    "        avg = r1/r2\n",
    "        return avg\n",
    "\n",
    "    def hardest_read(self, files):\n",
    "        \"\"\"returns the filename of the text with the highest vowel score \n",
    "        (use all the cpu cores on the computer for this work.\"\"\"\n",
    "        with ProcessPoolExecutor(len(files)) as ppe:\n",
    "            hardest_read = (\"\",0)\n",
    "            for text in files:\n",
    "                res = ppe.map(self.avg_vowels,files)\n",
    "        res_list = list(res)\n",
    "        \n",
    "        #if res > hardest_read[1]:\n",
    "        #hardest_read = (text,res)\n",
    "        #return hardest_read\n",
    "        \n",
    "        \n",
    "user_url = 'https://dr.dk'\n",
    "user_url_two = 'https://google.dk'\n",
    "url_standins = [\"url1\",\"url2\",\"url3\"]\n",
    "e = exercice(url_standins)\n",
    "\n",
    "print(e.__next__())\n",
    "\n",
    "for url in e.urllist_generator():\n",
    "    print(url)\n",
    "\n",
    "files = [\"google.dk.txt\", \"dr.dk.txt\"]\n",
    "#hardest = e.hardest_read(files)\n",
    "\n",
    "\n",
    "#e.multi_download([user_url,user_url_two])\n"
   ]
  },
  {
   "cell_type": "markdown",
   "metadata": {},
   "source": [
    "Create a notebook and import your module from above\n",
    "\n",
    "Find 10 books on https://www.gutenberg.org/browse/scores/top and download them using an object of the class you just created before\n",
    "\n",
    "Test the different methods of your class\n",
    "\n",
    "Make a bar plot with a sorted list of books on x-axis and avg vowels on y-axis"
   ]
  },
  {
   "cell_type": "code",
   "execution_count": 8,
   "metadata": {},
   "outputs": [
    {
     "ename": "UnicodeEncodeError",
     "evalue": "'charmap' codec can't encode characters in position 2022-2023: character maps to <undefined>",
     "output_type": "error",
     "traceback": [
      "\u001b[1;31m---------------------------------------------------------------------------\u001b[0m",
      "\u001b[1;31mUnicodeEncodeError\u001b[0m                        Traceback (most recent call last)",
      "\u001b[1;32m<ipython-input-8-e6d84eb06258>\u001b[0m in \u001b[0;36m<module>\u001b[1;34m\u001b[0m\n\u001b[0;32m      2\u001b[0m \u001b[0mex\u001b[0m \u001b[1;33m=\u001b[0m \u001b[0mexercice\u001b[0m\u001b[1;33m(\u001b[0m\u001b[0murls\u001b[0m\u001b[1;33m)\u001b[0m\u001b[1;33m\u001b[0m\u001b[1;33m\u001b[0m\u001b[0m\n\u001b[0;32m      3\u001b[0m \u001b[1;33m\u001b[0m\u001b[0m\n\u001b[1;32m----> 4\u001b[1;33m \u001b[0mex\u001b[0m\u001b[1;33m.\u001b[0m\u001b[0mdownload\u001b[0m\u001b[1;33m(\u001b[0m\u001b[0murls\u001b[0m\u001b[1;33m[\u001b[0m\u001b[1;36m0\u001b[0m\u001b[1;33m]\u001b[0m\u001b[1;33m,\u001b[0m\u001b[1;34m\"some.txt\"\u001b[0m\u001b[1;33m)\u001b[0m\u001b[1;33m\u001b[0m\u001b[1;33m\u001b[0m\u001b[0m\n\u001b[0m",
      "\u001b[1;32m<ipython-input-7-da75ad08e8f9>\u001b[0m in \u001b[0;36mdownload\u001b[1;34m(self, url, filename)\u001b[0m\n\u001b[0;32m     18\u001b[0m             \u001b[1;32mraise\u001b[0m \u001b[0mNotFoundException\u001b[0m\u001b[1;33m\u001b[0m\u001b[1;33m\u001b[0m\u001b[0m\n\u001b[0;32m     19\u001b[0m         \u001b[1;32mwith\u001b[0m \u001b[0mopen\u001b[0m\u001b[1;33m(\u001b[0m\u001b[0mfilename\u001b[0m\u001b[1;33m,\u001b[0m \u001b[1;34m'w'\u001b[0m\u001b[1;33m)\u001b[0m \u001b[1;32mas\u001b[0m \u001b[0mfile_object\u001b[0m\u001b[1;33m:\u001b[0m\u001b[1;33m\u001b[0m\u001b[1;33m\u001b[0m\u001b[0m\n\u001b[1;32m---> 20\u001b[1;33m             \u001b[0mfile_object\u001b[0m\u001b[1;33m.\u001b[0m\u001b[0mwrite\u001b[0m\u001b[1;33m(\u001b[0m\u001b[0mr\u001b[0m\u001b[1;33m.\u001b[0m\u001b[0mtext\u001b[0m\u001b[1;33m)\u001b[0m\u001b[1;33m.\u001b[0m\u001b[0mdecode\u001b[0m\u001b[1;33m(\u001b[0m\u001b[0merrors\u001b[0m \u001b[1;33m=\u001b[0m\u001b[1;34m'replace'\u001b[0m\u001b[1;33m)\u001b[0m\u001b[1;33m\u001b[0m\u001b[1;33m\u001b[0m\u001b[0m\n\u001b[0m\u001b[0;32m     21\u001b[0m \u001b[1;33m\u001b[0m\u001b[0m\n\u001b[0;32m     22\u001b[0m     \u001b[1;32mdef\u001b[0m \u001b[0mmulti_download\u001b[0m\u001b[1;33m(\u001b[0m\u001b[0mself\u001b[0m\u001b[1;33m,\u001b[0m \u001b[0murl_list\u001b[0m\u001b[1;33m)\u001b[0m\u001b[1;33m:\u001b[0m\u001b[1;33m\u001b[0m\u001b[1;33m\u001b[0m\u001b[0m\n",
      "\u001b[1;32m~\\Anaconda3\\lib\\encodings\\cp1252.py\u001b[0m in \u001b[0;36mencode\u001b[1;34m(self, input, final)\u001b[0m\n\u001b[0;32m     17\u001b[0m \u001b[1;32mclass\u001b[0m \u001b[0mIncrementalEncoder\u001b[0m\u001b[1;33m(\u001b[0m\u001b[0mcodecs\u001b[0m\u001b[1;33m.\u001b[0m\u001b[0mIncrementalEncoder\u001b[0m\u001b[1;33m)\u001b[0m\u001b[1;33m:\u001b[0m\u001b[1;33m\u001b[0m\u001b[1;33m\u001b[0m\u001b[0m\n\u001b[0;32m     18\u001b[0m     \u001b[1;32mdef\u001b[0m \u001b[0mencode\u001b[0m\u001b[1;33m(\u001b[0m\u001b[0mself\u001b[0m\u001b[1;33m,\u001b[0m \u001b[0minput\u001b[0m\u001b[1;33m,\u001b[0m \u001b[0mfinal\u001b[0m\u001b[1;33m=\u001b[0m\u001b[1;32mFalse\u001b[0m\u001b[1;33m)\u001b[0m\u001b[1;33m:\u001b[0m\u001b[1;33m\u001b[0m\u001b[1;33m\u001b[0m\u001b[0m\n\u001b[1;32m---> 19\u001b[1;33m         \u001b[1;32mreturn\u001b[0m \u001b[0mcodecs\u001b[0m\u001b[1;33m.\u001b[0m\u001b[0mcharmap_encode\u001b[0m\u001b[1;33m(\u001b[0m\u001b[0minput\u001b[0m\u001b[1;33m,\u001b[0m\u001b[0mself\u001b[0m\u001b[1;33m.\u001b[0m\u001b[0merrors\u001b[0m\u001b[1;33m,\u001b[0m\u001b[0mencoding_table\u001b[0m\u001b[1;33m)\u001b[0m\u001b[1;33m[\u001b[0m\u001b[1;36m0\u001b[0m\u001b[1;33m]\u001b[0m\u001b[1;33m\u001b[0m\u001b[1;33m\u001b[0m\u001b[0m\n\u001b[0m\u001b[0;32m     20\u001b[0m \u001b[1;33m\u001b[0m\u001b[0m\n\u001b[0;32m     21\u001b[0m \u001b[1;32mclass\u001b[0m \u001b[0mIncrementalDecoder\u001b[0m\u001b[1;33m(\u001b[0m\u001b[0mcodecs\u001b[0m\u001b[1;33m.\u001b[0m\u001b[0mIncrementalDecoder\u001b[0m\u001b[1;33m)\u001b[0m\u001b[1;33m:\u001b[0m\u001b[1;33m\u001b[0m\u001b[1;33m\u001b[0m\u001b[0m\n",
      "\u001b[1;31mUnicodeEncodeError\u001b[0m: 'charmap' codec can't encode characters in position 2022-2023: character maps to <undefined>"
     ]
    }
   ],
   "source": [
    "urls = [\"https://www.gutenberg.org/files/1400/1400-0.txt\", \"https://www.gutenberg.org/files/43/43-0.txt\",\"http://www.gutenberg.org/cache/epub/25525/pg25525.txt\"]\n",
    "ex = exercice(urls)\n",
    "\n",
    "ex.download(urls[0],\"some.txt\")"
   ]
  }
 ],
 "metadata": {
  "kernelspec": {
   "display_name": "Python 3",
   "language": "python",
   "name": "python3"
  },
  "language_info": {
   "codemirror_mode": {
    "name": "ipython",
    "version": 3
   },
   "file_extension": ".py",
   "mimetype": "text/x-python",
   "name": "python",
   "nbconvert_exporter": "python",
   "pygments_lexer": "ipython3",
   "version": "3.7.4"
  }
 },
 "nbformat": 4,
 "nbformat_minor": 2
}
