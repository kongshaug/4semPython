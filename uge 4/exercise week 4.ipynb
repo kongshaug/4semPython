{
 "cells": [
  {
   "cell_type": "markdown",
   "metadata": {},
   "source": [
    "# Ex 1 Exercise with Numpy\n",
    "\n",
    "## Exercise 1\n",
    "\n",
    "Open the file './befkbhalderstatkode.csv'\n",
    "\n",
    "Turn the csv file into a numpy ndarray with np.genfromtxt(filename, delimiter=',', dtype=np.uint, skip_header=1)\n",
    "\n",
    "Using this data:\n",
    "\n",
    "neighb = {1: 'Indre By', 2: 'Østerbro', 3: 'Nørrebro', 4: 'Vesterbro/Kgs. Enghave', \n",
    "   \n",
    "   5: 'Valby', 6: 'Vanløse', 7: 'Brønshøj-Husum', 8: 'Bispebjerg', 9: 'Amager Øst', \n",
    "   \n",
    "   10: 'Amager Vest', 99: 'Udenfor'}\n",
    "\n",
    "Find out how many people lived in each of the 11 areas in 2015\n",
    "\n"
   ]
  },
  {
   "cell_type": "code",
   "execution_count": 4,
   "metadata": {},
   "outputs": [
    {
     "name": "stdout",
     "output_type": "stream",
     "text": [
      "12169396\n",
      "[[2015    1    0 5100  614]\n",
      " [2015    1    0 5104    2]\n",
      " [2015    1    0 5106    1]\n",
      " ...\n",
      " [2015    1  102 5100    2]\n",
      " [2015    1  103 5100    1]\n",
      " [2015    1  106 5100    1]]\n",
      "[[2015    2    0 5100 1000]\n",
      " [2015    2    0 5106    3]\n",
      " [2015    2    0 5110    1]\n",
      " ...\n",
      " [2015    2  100 5100    7]\n",
      " [2015    2  102 5100    3]\n",
      " [2015    2  103 5100    3]]\n",
      "[[2015    3    0 5100 1204]\n",
      " [2015    3    0 5103    3]\n",
      " [2015    3    0 5104    3]\n",
      " ...\n",
      " [2015    3  101 5100    3]\n",
      " [2015    3  102 5100    3]\n",
      " [2015    3  105 5100    1]]\n",
      "[[2015    4    0 5100 1032]\n",
      " [2015    4    0 5102    1]\n",
      " [2015    4    0 5104    2]\n",
      " ...\n",
      " [2015    4  100 5100    1]\n",
      " [2015    4  101 5100    1]\n",
      " [2015    4  104 5100    1]]\n",
      "[[2015    5    0 5100  696]\n",
      " [2015    5    0 5103    1]\n",
      " [2015    5    0 5104    1]\n",
      " ...\n",
      " [2015    5  102 5100    4]\n",
      " [2015    5  103 5100    1]\n",
      " [2015    5  104 5100    1]]\n",
      "[[2015    6    0 5100  482]\n",
      " [2015    6    0 5120    1]\n",
      " [2015    6    0 5128    1]\n",
      " ...\n",
      " [2015    6  102 5100    3]\n",
      " [2015    6  102 5180    1]\n",
      " [2015    6  103 5100    1]]\n",
      "[[2015    7    0 5100  477]\n",
      " [2015    7    0 5103    3]\n",
      " [2015    7    0 5106    1]\n",
      " ...\n",
      " [2015    7  102 5100    2]\n",
      " [2015    7  103 5100    1]\n",
      " [2015    7  104 5100    1]]\n",
      "[[2015    8    0 5100  641]\n",
      " [2015    8    0 5103    3]\n",
      " [2015    8    0 5106    2]\n",
      " ...\n",
      " [2015    8  101 5100    2]\n",
      " [2015    8  102 5100    4]\n",
      " [2015    8  103 5100    1]]\n",
      "[[2015    9    0 5100  736]\n",
      " [2015    9    0 5104    1]\n",
      " [2015    9    0 5106    6]\n",
      " ...\n",
      " [2015    9   99 5478    1]\n",
      " [2015    9  100 5100    5]\n",
      " [2015    9  101 5100    2]]\n",
      "[[2015   10    0 5100 1006]\n",
      " [2015   10    0 5103    2]\n",
      " [2015   10    0 5104    2]\n",
      " ...\n",
      " [2015   10  102 5100    3]\n",
      " [2015   10  103 5100    2]\n",
      " [2015   10  104 5100    1]]\n",
      "[[2015   99    0 5100   15]\n",
      " [2015   99    0 5436    1]\n",
      " [2015   99    0 5472    1]\n",
      " ...\n",
      " [2015   99   82 5100    1]\n",
      " [2015   99   86 5289    1]\n",
      " [2015   99   90 5289    1]]\n"
     ]
    }
   ],
   "source": [
    "import numpy as np\n",
    "\n",
    "filename = \"./befkbhalderstatkode.csv\"\n",
    "\n",
    "bef_stats_df = np.genfromtxt(filename, delimiter=',', dtype=np.uint, skip_header=1)\n",
    "\n",
    "# print(type(bef_stats_df),' of size: ',bef_stats_df.size)\n",
    "\n",
    "\n",
    "neighb = {1: 'Indre By', 2: 'Østerbro', 3: 'Nørrebro', 4: 'Vesterbro/Kgs. Enghave',\n",
    "\n",
    "5: 'Valby', 6: 'Vanløse', 7: 'Brønshøj-Husum', 8: 'Bispebjerg', 9: 'Amager Øst',\n",
    "\n",
    "10: 'Amager Vest', 99: 'Udenfor'}\n",
    "\n",
    "people_dics = []\n",
    "\n",
    "\n",
    "print(sum(bef_stats_df[:,4]))\n",
    "\n",
    "for nabourhood in neighb:\n",
    "    # print(nabourhood, neighb[nabourhood])\n",
    "    mask = (bef_stats_df[:,0] == 2015) & (bef_stats_df[:,1] == nabourhood)\n",
    "    \n",
    "    sortet_list = bef_stats_df[mask]\n",
    "    print(sortet_list)\n",
    "    amount_of_people = np.sum(sortet_list[:,4])\n",
    "    people_dics.append(amount_of_people)\n",
    "\n",
    "  "
   ]
  },
  {
   "cell_type": "markdown",
   "metadata": {},
   "source": [
    "Make a bar plot to show the size of each city area from the smallest to the largest"
   ]
  },
  {
   "cell_type": "code",
   "execution_count": 5,
   "metadata": {},
   "outputs": [
    {
     "name": "stdout",
     "output_type": "stream",
     "text": [
      "[3872, 39537, 43908, 51727, 51937, 53604, 55205, 61623, 64967, 75113, 78802]\n",
      "3872\n",
      "0\n",
      "39537\n",
      "1\n",
      "43908\n",
      "2\n",
      "51727\n",
      "3\n",
      "51937\n",
      "4\n",
      "53604\n",
      "5\n",
      "55205\n",
      "6\n",
      "61623\n",
      "7\n",
      "64967\n",
      "8\n",
      "75113\n",
      "9\n",
      "78802\n",
      "10\n"
     ]
    },
    {
     "data": {
      "text/plain": [
       "<Figure size 640x480 with 1 Axes>"
      ]
     },
     "metadata": {},
     "output_type": "display_data"
    }
   ],
   "source": [
    "import matplotlib.pyplot as plt\n",
    "plt.style.use(\"dark_background\")\n",
    "\n",
    "\n",
    "sortet_num_of_people = people_dics\n",
    "sorted_area = []\n",
    "people_dics.sort()\n",
    "print(people_dics)\n",
    "\n",
    "for people in people_dics:\n",
    "    print(people)\n",
    "    index = sortet_num_of_people.index(people)\n",
    "    print(index)\n",
    "    sorted_area.append(neighb.get(index+1))\n",
    "\n",
    "            \n",
    "        \n",
    "\n",
    "\n",
    "plt.bar(neighb.values(), people_dics)\n",
    "#plt.title(\"people in the area\")\n",
    "plt.show()"
   ]
  },
  {
   "cell_type": "markdown",
   "metadata": {},
   "source": [
    "Create a boolean mask to find out how many people above 65 years lived in Copenhagen in 2015"
   ]
  },
  {
   "cell_type": "code",
   "execution_count": 6,
   "metadata": {},
   "outputs": [
    {
     "name": "stdout",
     "output_type": "stream",
     "text": [
      "1504384\n"
     ]
    }
   ],
   "source": [
    "\n",
    "\n",
    "over_sixtyfive_mask = bef_stats_df[:,2] > 65\n",
    "over_sixtyfive = bef_stats_df[over_sixtyfive_mask]\n",
    "print(sum(over_sixtyfive[:,4]))"
   ]
  },
  {
   "cell_type": "markdown",
   "metadata": {},
   "source": [
    "How many of those were from the other nordic countries (not dk)"
   ]
  },
  {
   "cell_type": "code",
   "execution_count": 7,
   "metadata": {},
   "outputs": [
    {
     "name": "stdout",
     "output_type": "stream",
     "text": [
      "50192\n"
     ]
    }
   ],
   "source": [
    "over_sixtyfive_not_dk_mask = over_sixtyfive[:,3] != 5100\n",
    "over_sixtyfive_not_dk = over_sixtyfive[over_sixtyfive_not_dk_mask]\n",
    "print(sum(over_sixtyfive_not_dk[:,4]))"
   ]
  },
  {
   "cell_type": "markdown",
   "metadata": {},
   "source": [
    "Make a line plot showing the changes of number of people in vesterbro and østerbro from 1992 to 2015"
   ]
  },
  {
   "cell_type": "code",
   "execution_count": 8,
   "metadata": {},
   "outputs": [
    {
     "name": "stdout",
     "output_type": "stream",
     "text": [
      "[47854, 47589, 47538, 47633, 47734, 48275, 49109, 49520, 50312, 50756, 51039, 51045, 50869, 50643, 50303, 50964, 51466, 53351, 55315, 57150, 58411, 59211, 60328, 61623]\n",
      "[62221, 62583, 63050, 63572, 64503, 65856, 66148, 66295, 66673, 66877, 67020, 67550, 67516, 67671, 67351, 67330, 67964, 68769, 69951, 70938, 72400, 73388, 74521, 75113]\n"
     ]
    },
    {
     "data": {
      "text/plain": [
       "Text(0, 0.5, 'population')"
      ]
     },
     "execution_count": 8,
     "metadata": {},
     "output_type": "execute_result"
    },
    {
     "data": {
      "image/png": "[encoded data removed]",
      "text/plain": [
       "<Figure size 432x288 with 1 Axes>"
      ]
     },
     "metadata": {},
     "output_type": "display_data"
    }
   ],
   "source": [
    "import matplotlib.pyplot as plt\n",
    "plt.style.use(\"dark_background\")\n",
    "\n",
    "bef_stats_df_1992_to_2015 = bef_stats_df[(bef_stats_df[:,0] >= 1992) & (bef_stats_df[:,0] <=2015)]\n",
    "bef_stats_df_1992_to_2015_vesterbro = bef_stats_df_1992_to_2015[(bef_stats_df_1992_to_2015[:,1] == 4)]\n",
    "bef_stats_df_1992_to_2015_østerbro = bef_stats_df_1992_to_2015[(bef_stats_df_1992_to_2015[:,1] == 2)]\n",
    "\n",
    "#hvordan summer man gruppe vis i array\n",
    "\n",
    "vesterbro_summed = []\n",
    "østerbro_summed = []\n",
    "years = bef_stats_df_1992_to_2015_vesterbro[:,0]\n",
    "years = np.unique(years)\n",
    "for year in years:\n",
    "    mask = bef_stats_df_1992_to_2015_vesterbro[:,0] == year\n",
    "    people_this_year = bef_stats_df_1992_to_2015_vesterbro[mask]\n",
    "    \n",
    "    vesterbro_summed.append(sum(people_this_year[:,4]))\n",
    "    \n",
    "    mask = bef_stats_df_1992_to_2015_østerbro[:,0] == year\n",
    "    people_this_year = bef_stats_df_1992_to_2015_østerbro[mask]\n",
    "    \n",
    "    østerbro_summed.append(sum(people_this_year[:,4]))\n",
    "    \n",
    "    \n",
    "    \n",
    "    \n",
    "    \n",
    "print(vesterbro_summed)\n",
    "print(østerbro_summed)\n",
    "\n",
    "plt.plot(years,vesterbro_summed, label=\"vesterbro\")\n",
    "plt.plot(years,østerbro_summed, label=\"østerbro\")\n",
    "\n",
    "plt.title(\"population in øster and vesterbro\")\n",
    "plt.legend()\n",
    "plt.xlabel(\"year\")\n",
    "plt.ylabel(\"population\")\n"
   ]
  },
  {
   "cell_type": "code",
   "execution_count": 68,
   "metadata": {},
   "outputs": [],
   "source": [
    "import pandas as pd \n",
    "url = 'FOLK1A.csv'\n",
    "df = pd.read_csv(url,sep=';')\n",
    "df['TID'] = df['TID'].map(lambda x:x[:-2]) #cut the last 2 characters\n",
    "df.to_csv('demografic_cleaned.csv',header=False, index=False)\n",
    "\n"
   ]
  },
  {
   "cell_type": "markdown",
   "metadata": {},
   "source": [
    "Now load your demographic data with numpy. (Hint: use np.loadtxt() with dtype and delimiter).\n",
    "OMRÅDE;KØN;ALDER;TID;INDHOLD"
   ]
  },
  {
   "cell_type": "code",
   "execution_count": 54,
   "metadata": {},
   "outputs": [
    {
     "name": "stdout",
     "output_type": "stream",
     "text": [
      "[2008 2009 2010 ... 2018 2019 2020]\n"
     ]
    }
   ],
   "source": [
    "import numpy as np\n",
    "\n",
    "path = 'demografic_cleaned.csv'\n",
    "\n",
    "\n",
    "demografic = np.loadtxt(path, dtype=int, delimiter=',')\n",
    "print(demografic[:,3])\n",
    "\n",
    "\n"
   ]
  },
  {
   "cell_type": "markdown",
   "metadata": {},
   "source": [
    "Use file: BY_KODER_demographics.csv to get cities from the city codes"
   ]
  },
  {
   "cell_type": "code",
   "execution_count": 55,
   "metadata": {},
   "outputs": [
    {
     "name": "stdout",
     "output_type": "stream",
     "text": [
      "155\n"
     ]
    }
   ],
   "source": [
    "import numpy as np\n",
    "\n",
    "path_city = 'BY_KODER_demografics.csv'\n",
    "\n",
    "cityes = np.loadtxt(path_city, dtype=str, delimiter=',')\n",
    "print(cityes[4,0])\n"
   ]
  },
  {
   "cell_type": "markdown",
   "metadata": {},
   "source": [
    "Now find out which city in 2020 has the highest percentage of men (gender code 1),(Hint: create a function to return summed up data by city code ala: def summed_by_city(city_code): returning pct_male\n",
    "\n",
    "\n",
    "\n",
    "OMRÅDE KØN ALDER TID INDHOLD"
   ]
  },
  {
   "cell_type": "code",
   "execution_count": 67,
   "metadata": {},
   "outputs": [
    {
     "name": "stdout",
     "output_type": "stream",
     "text": [
      "39150\n",
      "19378\n"
     ]
    },
    {
     "data": {
      "text/plain": [
       "49.49680715197956"
      ]
     },
     "execution_count": 67,
     "metadata": {},
     "output_type": "execute_result"
    }
   ],
   "source": [
    "import numpy as np\n",
    "demografic_2020_mask = demografic[:,3] == 2020\n",
    "demografic_2020 = demografic[demografic_2020_mask]\n",
    "\n",
    "def summed_by_city(city_code):\n",
    "    \n",
    "    demografic_city = demografic_2020[demografic_2020[:,0] == city_code]\n",
    "    \n",
    "    all_people = np.sum(demografic_city[:,4])\n",
    "    \n",
    "    demografic_city_men = demografic_city[demografic_city[:,1] == 1]\n",
    "    \n",
    "    all_men = np.sum(demografic_city_men[:, 4])\n",
    "    \n",
    "    print (all_people)\n",
    "    print (all_men)\n",
    "    return 100 /(all_people/all_men)\n",
    "\n",
    "summed_by_city(400)\n",
    "\n",
    "\n"
   ]
  },
  {
   "cell_type": "markdown",
   "metadata": {},
   "source": [
    "create a line chart with 5 lines showing population changes in the 5 largest cities from 2008 to 2020"
   ]
  },
  {
   "cell_type": "code",
   "execution_count": 107,
   "metadata": {},
   "outputs": [
    {
     "name": "stdout",
     "output_type": "stream",
     "text": [
      "   OMRÅDE  KØN  ALDER   TID  INDHOLD\n",
      "0       0    1      0  2008    32976\n",
      "1       0    1      0  2009    33656\n",
      "2       0    1      0  2010    32435\n",
      "3       0    1      0  2011    32628\n",
      "4       0    1      0  2012    30184\n"
     ]
    },
    {
     "data": {
      "text/plain": [
       "1        67\n",
       "2        59\n",
       "3        53\n",
       "5        50\n",
       "7        46\n",
       "         ..\n",
       "32955     1\n",
       "10124     1\n",
       "32663     1\n",
       "6042      1\n",
       "36890     1\n",
       "Name: INDHOLD, Length: 10621, dtype: int64"
      ]
     },
     "execution_count": 107,
     "metadata": {},
     "output_type": "execute_result"
    }
   ],
   "source": [
    "import pandas as pd \n",
    "\n",
    "oo = pd.read_csv(\"FOLK1A.csv\", delimiter=\";\")\n",
    "oo['TID'] = oo['TID'].map(lambda x:x[:-2])\n",
    "print(oo.head())\n",
    "oo[[\"OMRÅDE\",\"INDHOLD\"]].INDHOLD.value_counts()\n",
    "\n"
   ]
  }
 ],
 "metadata": {
  "kernelspec": {
   "display_name": "Python 3",
   "language": "python",
   "name": "python3"
  },
  "language_info": {
   "codemirror_mode": {
    "name": "ipython",
    "version": 3
   },
   "file_extension": ".py",
   "mimetype": "text/x-python",
   "name": "python",
   "nbconvert_exporter": "python",
   "pygments_lexer": "ipython3",
   "version": "3.7.4"
  }
 },
 "nbformat": 4,
 "nbformat_minor": 2
}
